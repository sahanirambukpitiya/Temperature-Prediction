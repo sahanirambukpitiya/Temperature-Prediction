{
  "nbformat": 4,
  "nbformat_minor": 0,
  "metadata": {
    "colab": {
      "name": "Solution_174128V.ipynb",
      "provenance": [],
      "collapsed_sections": [],
      "authorship_tag": "ABX9TyO2AihdoddlsFtHESCJZPh4",
      "include_colab_link": true
    },
    "kernelspec": {
      "name": "python3",
      "display_name": "Python 3"
    },
    "language_info": {
      "name": "python"
    }
  },
  "cells": [
    {
      "cell_type": "markdown",
      "metadata": {
        "id": "view-in-github",
        "colab_type": "text"
      },
      "source": [
        "<a href=\"https://colab.research.google.com/github/sahanirambukpitiya/Temperature-Prediction/blob/main/Solution_174128V.ipynb\" target=\"_parent\"><img src=\"https://colab.research.google.com/assets/colab-badge.svg\" alt=\"Open In Colab\"/></a>"
      ]
    },
    {
      "cell_type": "code",
      "metadata": {
        "id": "qZv9WhU1Rojb"
      },
      "source": [
        "import matplotlib.pyplot as plt\n",
        "import seaborn as sns\n",
        "import warnings\n",
        "import scipy.stats as stats\n",
        "import pandas as pd\n",
        "import numpy as np\n",
        "from sklearn import linear_model\n",
        "from sklearn import datasets\n",
        "from sklearn import preprocessing\n",
        "from sklearn.preprocessing import StandardScaler\n",
        "from sklearn.preprocessing import FunctionTransformer\n",
        "from sklearn.preprocessing import OneHotEncoder\n",
        "from sklearn.preprocessing import KBinsDiscretizer\n",
        "from sklearn.decomposition import PCA\n",
        "from sklearn.model_selection import train_test_split \n",
        "from sklearn.metrics import mean_squared_error\n",
        "from math import sqrt"
      ],
      "execution_count": null,
      "outputs": []
    },
    {
      "cell_type": "code",
      "metadata": {
        "colab": {
          "base_uri": "https://localhost:8080/"
        },
        "id": "225-ZLPoRza4",
        "outputId": "1152d566-4349-4538-d3e2-18b4b56716c7"
      },
      "source": [
        "from google.colab import drive\n",
        "drive.mount(\"/content/gdrive\")"
      ],
      "execution_count": null,
      "outputs": [
        {
          "output_type": "stream",
          "text": [
            "Mounted at /content/gdrive\n"
          ],
          "name": "stdout"
        }
      ]
    },
    {
      "cell_type": "code",
      "metadata": {
        "colab": {
          "base_uri": "https://localhost:8080/",
          "height": 919
        },
        "id": "2X_EmZhVR-IR",
        "outputId": "970dc762-0dab-493c-869c-37fcdf6c56d5"
      },
      "source": [
        "data_set = pd.read_csv('/content/gdrive/My Drive/ML/Data/weatherHistory.csv')\n",
        "data_set.head(10)"
      ],
      "execution_count": null,
      "outputs": [
        {
          "output_type": "execute_result",
          "data": {
            "text/html": [
              "<div>\n",
              "<style scoped>\n",
              "    .dataframe tbody tr th:only-of-type {\n",
              "        vertical-align: middle;\n",
              "    }\n",
              "\n",
              "    .dataframe tbody tr th {\n",
              "        vertical-align: top;\n",
              "    }\n",
              "\n",
              "    .dataframe thead th {\n",
              "        text-align: right;\n",
              "    }\n",
              "</style>\n",
              "<table border=\"1\" class=\"dataframe\">\n",
              "  <thead>\n",
              "    <tr style=\"text-align: right;\">\n",
              "      <th></th>\n",
              "      <th>Formatted Date</th>\n",
              "      <th>Summary</th>\n",
              "      <th>Precip Type</th>\n",
              "      <th>Temperature (C)</th>\n",
              "      <th>Apparent Temperature (C)</th>\n",
              "      <th>Humidity</th>\n",
              "      <th>Wind Speed (km/h)</th>\n",
              "      <th>Wind Bearing (degrees)</th>\n",
              "      <th>Visibility (km)</th>\n",
              "      <th>Loud Cover</th>\n",
              "      <th>Pressure (millibars)</th>\n",
              "      <th>Daily Summary</th>\n",
              "    </tr>\n",
              "  </thead>\n",
              "  <tbody>\n",
              "    <tr>\n",
              "      <th>0</th>\n",
              "      <td>2006-04-01 00:00:00.000 +0200</td>\n",
              "      <td>Partly Cloudy</td>\n",
              "      <td>rain</td>\n",
              "      <td>9.472222</td>\n",
              "      <td>7.388889</td>\n",
              "      <td>0.89</td>\n",
              "      <td>14.1197</td>\n",
              "      <td>251.0</td>\n",
              "      <td>15.8263</td>\n",
              "      <td>0.0</td>\n",
              "      <td>1015.13</td>\n",
              "      <td>Partly cloudy throughout the day.</td>\n",
              "    </tr>\n",
              "    <tr>\n",
              "      <th>1</th>\n",
              "      <td>2006-04-01 01:00:00.000 +0200</td>\n",
              "      <td>Partly Cloudy</td>\n",
              "      <td>rain</td>\n",
              "      <td>9.355556</td>\n",
              "      <td>7.227778</td>\n",
              "      <td>0.86</td>\n",
              "      <td>14.2646</td>\n",
              "      <td>259.0</td>\n",
              "      <td>15.8263</td>\n",
              "      <td>0.0</td>\n",
              "      <td>1015.63</td>\n",
              "      <td>Partly cloudy throughout the day.</td>\n",
              "    </tr>\n",
              "    <tr>\n",
              "      <th>2</th>\n",
              "      <td>2006-04-01 02:00:00.000 +0200</td>\n",
              "      <td>Mostly Cloudy</td>\n",
              "      <td>rain</td>\n",
              "      <td>9.377778</td>\n",
              "      <td>9.377778</td>\n",
              "      <td>0.89</td>\n",
              "      <td>3.9284</td>\n",
              "      <td>204.0</td>\n",
              "      <td>14.9569</td>\n",
              "      <td>0.0</td>\n",
              "      <td>1015.94</td>\n",
              "      <td>Partly cloudy throughout the day.</td>\n",
              "    </tr>\n",
              "    <tr>\n",
              "      <th>3</th>\n",
              "      <td>2006-04-01 03:00:00.000 +0200</td>\n",
              "      <td>Partly Cloudy</td>\n",
              "      <td>rain</td>\n",
              "      <td>8.288889</td>\n",
              "      <td>5.944444</td>\n",
              "      <td>0.83</td>\n",
              "      <td>14.1036</td>\n",
              "      <td>269.0</td>\n",
              "      <td>15.8263</td>\n",
              "      <td>0.0</td>\n",
              "      <td>1016.41</td>\n",
              "      <td>Partly cloudy throughout the day.</td>\n",
              "    </tr>\n",
              "    <tr>\n",
              "      <th>4</th>\n",
              "      <td>2006-04-01 04:00:00.000 +0200</td>\n",
              "      <td>Mostly Cloudy</td>\n",
              "      <td>rain</td>\n",
              "      <td>8.755556</td>\n",
              "      <td>6.977778</td>\n",
              "      <td>0.83</td>\n",
              "      <td>11.0446</td>\n",
              "      <td>259.0</td>\n",
              "      <td>15.8263</td>\n",
              "      <td>0.0</td>\n",
              "      <td>1016.51</td>\n",
              "      <td>Partly cloudy throughout the day.</td>\n",
              "    </tr>\n",
              "    <tr>\n",
              "      <th>5</th>\n",
              "      <td>2006-04-01 05:00:00.000 +0200</td>\n",
              "      <td>Partly Cloudy</td>\n",
              "      <td>rain</td>\n",
              "      <td>9.222222</td>\n",
              "      <td>7.111111</td>\n",
              "      <td>0.85</td>\n",
              "      <td>13.9587</td>\n",
              "      <td>258.0</td>\n",
              "      <td>14.9569</td>\n",
              "      <td>0.0</td>\n",
              "      <td>1016.66</td>\n",
              "      <td>Partly cloudy throughout the day.</td>\n",
              "    </tr>\n",
              "    <tr>\n",
              "      <th>6</th>\n",
              "      <td>2006-04-01 06:00:00.000 +0200</td>\n",
              "      <td>Partly Cloudy</td>\n",
              "      <td>rain</td>\n",
              "      <td>7.733333</td>\n",
              "      <td>5.522222</td>\n",
              "      <td>0.95</td>\n",
              "      <td>12.3648</td>\n",
              "      <td>259.0</td>\n",
              "      <td>9.9820</td>\n",
              "      <td>0.0</td>\n",
              "      <td>1016.72</td>\n",
              "      <td>Partly cloudy throughout the day.</td>\n",
              "    </tr>\n",
              "    <tr>\n",
              "      <th>7</th>\n",
              "      <td>2006-04-01 07:00:00.000 +0200</td>\n",
              "      <td>Partly Cloudy</td>\n",
              "      <td>rain</td>\n",
              "      <td>8.772222</td>\n",
              "      <td>6.527778</td>\n",
              "      <td>0.89</td>\n",
              "      <td>14.1519</td>\n",
              "      <td>260.0</td>\n",
              "      <td>9.9820</td>\n",
              "      <td>0.0</td>\n",
              "      <td>1016.84</td>\n",
              "      <td>Partly cloudy throughout the day.</td>\n",
              "    </tr>\n",
              "    <tr>\n",
              "      <th>8</th>\n",
              "      <td>2006-04-01 08:00:00.000 +0200</td>\n",
              "      <td>Partly Cloudy</td>\n",
              "      <td>rain</td>\n",
              "      <td>10.822222</td>\n",
              "      <td>10.822222</td>\n",
              "      <td>0.82</td>\n",
              "      <td>11.3183</td>\n",
              "      <td>259.0</td>\n",
              "      <td>9.9820</td>\n",
              "      <td>0.0</td>\n",
              "      <td>1017.37</td>\n",
              "      <td>Partly cloudy throughout the day.</td>\n",
              "    </tr>\n",
              "    <tr>\n",
              "      <th>9</th>\n",
              "      <td>2006-04-01 09:00:00.000 +0200</td>\n",
              "      <td>Partly Cloudy</td>\n",
              "      <td>rain</td>\n",
              "      <td>13.772222</td>\n",
              "      <td>13.772222</td>\n",
              "      <td>0.72</td>\n",
              "      <td>12.5258</td>\n",
              "      <td>279.0</td>\n",
              "      <td>9.9820</td>\n",
              "      <td>0.0</td>\n",
              "      <td>1017.22</td>\n",
              "      <td>Partly cloudy throughout the day.</td>\n",
              "    </tr>\n",
              "  </tbody>\n",
              "</table>\n",
              "</div>"
            ],
            "text/plain": [
              "                  Formatted Date  ...                      Daily Summary\n",
              "0  2006-04-01 00:00:00.000 +0200  ...  Partly cloudy throughout the day.\n",
              "1  2006-04-01 01:00:00.000 +0200  ...  Partly cloudy throughout the day.\n",
              "2  2006-04-01 02:00:00.000 +0200  ...  Partly cloudy throughout the day.\n",
              "3  2006-04-01 03:00:00.000 +0200  ...  Partly cloudy throughout the day.\n",
              "4  2006-04-01 04:00:00.000 +0200  ...  Partly cloudy throughout the day.\n",
              "5  2006-04-01 05:00:00.000 +0200  ...  Partly cloudy throughout the day.\n",
              "6  2006-04-01 06:00:00.000 +0200  ...  Partly cloudy throughout the day.\n",
              "7  2006-04-01 07:00:00.000 +0200  ...  Partly cloudy throughout the day.\n",
              "8  2006-04-01 08:00:00.000 +0200  ...  Partly cloudy throughout the day.\n",
              "9  2006-04-01 09:00:00.000 +0200  ...  Partly cloudy throughout the day.\n",
              "\n",
              "[10 rows x 12 columns]"
            ]
          },
          "metadata": {
            "tags": []
          },
          "execution_count": 3
        }
      ]
    },
    {
      "cell_type": "code",
      "metadata": {
        "colab": {
          "base_uri": "https://localhost:8080/"
        },
        "id": "-RSO5luWSDjk",
        "outputId": "0dcf3048-68d6-4f5a-b70e-d6706a415dfe"
      },
      "source": [
        "data_set.columns"
      ],
      "execution_count": null,
      "outputs": [
        {
          "output_type": "execute_result",
          "data": {
            "text/plain": [
              "Index(['Formatted Date', 'Summary', 'Precip Type', 'Temperature (C)',\n",
              "       'Apparent Temperature (C)', 'Humidity', 'Wind Speed (km/h)',\n",
              "       'Wind Bearing (degrees)', 'Visibility (km)', 'Loud Cover',\n",
              "       'Pressure (millibars)', 'Daily Summary'],\n",
              "      dtype='object')"
            ]
          },
          "metadata": {
            "tags": []
          },
          "execution_count": 4
        }
      ]
    },
    {
      "cell_type": "code",
      "metadata": {
        "colab": {
          "base_uri": "https://localhost:8080/"
        },
        "id": "UcEf1Ik7SGZv",
        "outputId": "4f864ca9-7d81-40ca-f345-7fc1f1e6ab94"
      },
      "source": [
        "data_set.info"
      ],
      "execution_count": null,
      "outputs": [
        {
          "output_type": "execute_result",
          "data": {
            "text/plain": [
              "<bound method DataFrame.info of                       Formatted Date  ...                           Daily Summary\n",
              "0      2006-04-01 00:00:00.000 +0200  ...       Partly cloudy throughout the day.\n",
              "1      2006-04-01 01:00:00.000 +0200  ...       Partly cloudy throughout the day.\n",
              "2      2006-04-01 02:00:00.000 +0200  ...       Partly cloudy throughout the day.\n",
              "3      2006-04-01 03:00:00.000 +0200  ...       Partly cloudy throughout the day.\n",
              "4      2006-04-01 04:00:00.000 +0200  ...       Partly cloudy throughout the day.\n",
              "...                              ...  ...                                     ...\n",
              "96448  2016-09-09 19:00:00.000 +0200  ...  Partly cloudy starting in the morning.\n",
              "96449  2016-09-09 20:00:00.000 +0200  ...  Partly cloudy starting in the morning.\n",
              "96450  2016-09-09 21:00:00.000 +0200  ...  Partly cloudy starting in the morning.\n",
              "96451  2016-09-09 22:00:00.000 +0200  ...  Partly cloudy starting in the morning.\n",
              "96452  2016-09-09 23:00:00.000 +0200  ...  Partly cloudy starting in the morning.\n",
              "\n",
              "[96453 rows x 12 columns]>"
            ]
          },
          "metadata": {
            "tags": []
          },
          "execution_count": 5
        }
      ]
    },
    {
      "cell_type": "code",
      "metadata": {
        "colab": {
          "base_uri": "https://localhost:8080/",
          "height": 511
        },
        "id": "cWoCFD9ISLEo",
        "outputId": "3b88fad3-6905-4d84-e160-be223e1ba5cd"
      },
      "source": [
        "df = pd.DataFrame(data_set, columns=data_set.columns)\n",
        "df.head()"
      ],
      "execution_count": null,
      "outputs": [
        {
          "output_type": "execute_result",
          "data": {
            "text/html": [
              "<div>\n",
              "<style scoped>\n",
              "    .dataframe tbody tr th:only-of-type {\n",
              "        vertical-align: middle;\n",
              "    }\n",
              "\n",
              "    .dataframe tbody tr th {\n",
              "        vertical-align: top;\n",
              "    }\n",
              "\n",
              "    .dataframe thead th {\n",
              "        text-align: right;\n",
              "    }\n",
              "</style>\n",
              "<table border=\"1\" class=\"dataframe\">\n",
              "  <thead>\n",
              "    <tr style=\"text-align: right;\">\n",
              "      <th></th>\n",
              "      <th>Formatted Date</th>\n",
              "      <th>Summary</th>\n",
              "      <th>Precip Type</th>\n",
              "      <th>Temperature (C)</th>\n",
              "      <th>Apparent Temperature (C)</th>\n",
              "      <th>Humidity</th>\n",
              "      <th>Wind Speed (km/h)</th>\n",
              "      <th>Wind Bearing (degrees)</th>\n",
              "      <th>Visibility (km)</th>\n",
              "      <th>Loud Cover</th>\n",
              "      <th>Pressure (millibars)</th>\n",
              "      <th>Daily Summary</th>\n",
              "    </tr>\n",
              "  </thead>\n",
              "  <tbody>\n",
              "    <tr>\n",
              "      <th>0</th>\n",
              "      <td>2006-04-01 00:00:00.000 +0200</td>\n",
              "      <td>Partly Cloudy</td>\n",
              "      <td>rain</td>\n",
              "      <td>9.472222</td>\n",
              "      <td>7.388889</td>\n",
              "      <td>0.89</td>\n",
              "      <td>14.1197</td>\n",
              "      <td>251.0</td>\n",
              "      <td>15.8263</td>\n",
              "      <td>0.0</td>\n",
              "      <td>1015.13</td>\n",
              "      <td>Partly cloudy throughout the day.</td>\n",
              "    </tr>\n",
              "    <tr>\n",
              "      <th>1</th>\n",
              "      <td>2006-04-01 01:00:00.000 +0200</td>\n",
              "      <td>Partly Cloudy</td>\n",
              "      <td>rain</td>\n",
              "      <td>9.355556</td>\n",
              "      <td>7.227778</td>\n",
              "      <td>0.86</td>\n",
              "      <td>14.2646</td>\n",
              "      <td>259.0</td>\n",
              "      <td>15.8263</td>\n",
              "      <td>0.0</td>\n",
              "      <td>1015.63</td>\n",
              "      <td>Partly cloudy throughout the day.</td>\n",
              "    </tr>\n",
              "    <tr>\n",
              "      <th>2</th>\n",
              "      <td>2006-04-01 02:00:00.000 +0200</td>\n",
              "      <td>Mostly Cloudy</td>\n",
              "      <td>rain</td>\n",
              "      <td>9.377778</td>\n",
              "      <td>9.377778</td>\n",
              "      <td>0.89</td>\n",
              "      <td>3.9284</td>\n",
              "      <td>204.0</td>\n",
              "      <td>14.9569</td>\n",
              "      <td>0.0</td>\n",
              "      <td>1015.94</td>\n",
              "      <td>Partly cloudy throughout the day.</td>\n",
              "    </tr>\n",
              "    <tr>\n",
              "      <th>3</th>\n",
              "      <td>2006-04-01 03:00:00.000 +0200</td>\n",
              "      <td>Partly Cloudy</td>\n",
              "      <td>rain</td>\n",
              "      <td>8.288889</td>\n",
              "      <td>5.944444</td>\n",
              "      <td>0.83</td>\n",
              "      <td>14.1036</td>\n",
              "      <td>269.0</td>\n",
              "      <td>15.8263</td>\n",
              "      <td>0.0</td>\n",
              "      <td>1016.41</td>\n",
              "      <td>Partly cloudy throughout the day.</td>\n",
              "    </tr>\n",
              "    <tr>\n",
              "      <th>4</th>\n",
              "      <td>2006-04-01 04:00:00.000 +0200</td>\n",
              "      <td>Mostly Cloudy</td>\n",
              "      <td>rain</td>\n",
              "      <td>8.755556</td>\n",
              "      <td>6.977778</td>\n",
              "      <td>0.83</td>\n",
              "      <td>11.0446</td>\n",
              "      <td>259.0</td>\n",
              "      <td>15.8263</td>\n",
              "      <td>0.0</td>\n",
              "      <td>1016.51</td>\n",
              "      <td>Partly cloudy throughout the day.</td>\n",
              "    </tr>\n",
              "  </tbody>\n",
              "</table>\n",
              "</div>"
            ],
            "text/plain": [
              "                  Formatted Date  ...                      Daily Summary\n",
              "0  2006-04-01 00:00:00.000 +0200  ...  Partly cloudy throughout the day.\n",
              "1  2006-04-01 01:00:00.000 +0200  ...  Partly cloudy throughout the day.\n",
              "2  2006-04-01 02:00:00.000 +0200  ...  Partly cloudy throughout the day.\n",
              "3  2006-04-01 03:00:00.000 +0200  ...  Partly cloudy throughout the day.\n",
              "4  2006-04-01 04:00:00.000 +0200  ...  Partly cloudy throughout the day.\n",
              "\n",
              "[5 rows x 12 columns]"
            ]
          },
          "metadata": {
            "tags": []
          },
          "execution_count": 6
        }
      ]
    },
    {
      "cell_type": "code",
      "metadata": {
        "colab": {
          "base_uri": "https://localhost:8080/"
        },
        "id": "lxCnLpg6SOt4",
        "outputId": "ab04aa1b-d5b2-44f1-b390-6f2dca393ac8"
      },
      "source": [
        "# calculate duplicates\n",
        "duplicates = df.duplicated()\n",
        "print(duplicates.any())"
      ],
      "execution_count": null,
      "outputs": [
        {
          "output_type": "stream",
          "text": [
            "True\n"
          ],
          "name": "stdout"
        }
      ]
    },
    {
      "cell_type": "code",
      "metadata": {
        "colab": {
          "base_uri": "https://localhost:8080/"
        },
        "id": "xyyXkd5WSSmG",
        "outputId": "8bd418da-3844-4979-a287-86d539b25e72"
      },
      "source": [
        "# display the duplicate rows\n",
        "print(df[duplicates])"
      ],
      "execution_count": null,
      "outputs": [
        {
          "output_type": "stream",
          "text": [
            "                      Formatted Date  ...                                      Daily Summary\n",
            "36072  2010-08-02 00:00:00.000 +0200  ...  Partly cloudy starting in the afternoon contin...\n",
            "36073  2010-08-02 01:00:00.000 +0200  ...  Partly cloudy starting in the afternoon contin...\n",
            "36074  2010-08-02 02:00:00.000 +0200  ...  Partly cloudy starting in the afternoon contin...\n",
            "36075  2010-08-02 03:00:00.000 +0200  ...  Partly cloudy starting in the afternoon contin...\n",
            "36076  2010-08-02 04:00:00.000 +0200  ...  Partly cloudy starting in the afternoon contin...\n",
            "36077  2010-08-02 05:00:00.000 +0200  ...  Partly cloudy starting in the afternoon contin...\n",
            "36078  2010-08-02 06:00:00.000 +0200  ...  Partly cloudy starting in the afternoon contin...\n",
            "36079  2010-08-02 07:00:00.000 +0200  ...  Partly cloudy starting in the afternoon contin...\n",
            "36080  2010-08-02 08:00:00.000 +0200  ...  Partly cloudy starting in the afternoon contin...\n",
            "36081  2010-08-02 09:00:00.000 +0200  ...  Partly cloudy starting in the afternoon contin...\n",
            "36082  2010-08-02 10:00:00.000 +0200  ...  Partly cloudy starting in the afternoon contin...\n",
            "36083  2010-08-02 11:00:00.000 +0200  ...  Partly cloudy starting in the afternoon contin...\n",
            "36084  2010-08-02 12:00:00.000 +0200  ...  Partly cloudy starting in the afternoon contin...\n",
            "36085  2010-08-02 13:00:00.000 +0200  ...  Partly cloudy starting in the afternoon contin...\n",
            "36086  2010-08-02 14:00:00.000 +0200  ...  Partly cloudy starting in the afternoon contin...\n",
            "36087  2010-08-02 15:00:00.000 +0200  ...  Partly cloudy starting in the afternoon contin...\n",
            "36088  2010-08-02 16:00:00.000 +0200  ...  Partly cloudy starting in the afternoon contin...\n",
            "36089  2010-08-02 17:00:00.000 +0200  ...  Partly cloudy starting in the afternoon contin...\n",
            "36090  2010-08-02 18:00:00.000 +0200  ...  Partly cloudy starting in the afternoon contin...\n",
            "36091  2010-08-02 19:00:00.000 +0200  ...  Partly cloudy starting in the afternoon contin...\n",
            "36092  2010-08-02 20:00:00.000 +0200  ...  Partly cloudy starting in the afternoon contin...\n",
            "36093  2010-08-02 21:00:00.000 +0200  ...  Partly cloudy starting in the afternoon contin...\n",
            "36094  2010-08-02 22:00:00.000 +0200  ...  Partly cloudy starting in the afternoon contin...\n",
            "36095  2010-08-02 23:00:00.000 +0200  ...  Partly cloudy starting in the afternoon contin...\n",
            "\n",
            "[24 rows x 12 columns]\n"
          ],
          "name": "stdout"
        }
      ]
    },
    {
      "cell_type": "code",
      "metadata": {
        "id": "LVi0LQfHSXXx"
      },
      "source": [
        "# delete duplicate rows\n",
        "df.drop_duplicates(inplace=True)\n",
        "# reset indexes \n",
        "df = df.reset_index(drop=True)"
      ],
      "execution_count": null,
      "outputs": []
    },
    {
      "cell_type": "code",
      "metadata": {
        "colab": {
          "base_uri": "https://localhost:8080/"
        },
        "id": "8AxDPpg_Sa5x",
        "outputId": "54c33f37-ef7f-4d19-e150-dd39c7990ba3"
      },
      "source": [
        "df.info"
      ],
      "execution_count": null,
      "outputs": [
        {
          "output_type": "execute_result",
          "data": {
            "text/plain": [
              "<bound method DataFrame.info of                       Formatted Date  ...                           Daily Summary\n",
              "0      2006-04-01 00:00:00.000 +0200  ...       Partly cloudy throughout the day.\n",
              "1      2006-04-01 01:00:00.000 +0200  ...       Partly cloudy throughout the day.\n",
              "2      2006-04-01 02:00:00.000 +0200  ...       Partly cloudy throughout the day.\n",
              "3      2006-04-01 03:00:00.000 +0200  ...       Partly cloudy throughout the day.\n",
              "4      2006-04-01 04:00:00.000 +0200  ...       Partly cloudy throughout the day.\n",
              "...                              ...  ...                                     ...\n",
              "96424  2016-09-09 19:00:00.000 +0200  ...  Partly cloudy starting in the morning.\n",
              "96425  2016-09-09 20:00:00.000 +0200  ...  Partly cloudy starting in the morning.\n",
              "96426  2016-09-09 21:00:00.000 +0200  ...  Partly cloudy starting in the morning.\n",
              "96427  2016-09-09 22:00:00.000 +0200  ...  Partly cloudy starting in the morning.\n",
              "96428  2016-09-09 23:00:00.000 +0200  ...  Partly cloudy starting in the morning.\n",
              "\n",
              "[96429 rows x 12 columns]>"
            ]
          },
          "metadata": {
            "tags": []
          },
          "execution_count": 10
        }
      ]
    },
    {
      "cell_type": "code",
      "metadata": {
        "colab": {
          "base_uri": "https://localhost:8080/"
        },
        "id": "Mj1vLzuOSd_7",
        "outputId": "fa5c3ffe-5130-4adb-bcc0-f4246b1aa264"
      },
      "source": [
        "df.nunique()"
      ],
      "execution_count": null,
      "outputs": [
        {
          "output_type": "execute_result",
          "data": {
            "text/plain": [
              "Formatted Date              96429\n",
              "Summary                        27\n",
              "Precip Type                     2\n",
              "Temperature (C)              7574\n",
              "Apparent Temperature (C)     8984\n",
              "Humidity                       90\n",
              "Wind Speed (km/h)            2484\n",
              "Wind Bearing (degrees)        360\n",
              "Visibility (km)               949\n",
              "Loud Cover                      1\n",
              "Pressure (millibars)         4979\n",
              "Daily Summary                 214\n",
              "dtype: int64"
            ]
          },
          "metadata": {
            "tags": []
          },
          "execution_count": 11
        }
      ]
    },
    {
      "cell_type": "code",
      "metadata": {
        "id": "NUIqlCMJShCO"
      },
      "source": [
        "# drop formatted date column\n",
        "df = df.drop(columns='Formatted Date', axis=1)"
      ],
      "execution_count": null,
      "outputs": []
    },
    {
      "cell_type": "code",
      "metadata": {
        "id": "vVHRfxyOSj_O"
      },
      "source": [
        "# drop daily summary column\n",
        "df = df.drop(columns='Daily Summary', axis=1)"
      ],
      "execution_count": null,
      "outputs": []
    },
    {
      "cell_type": "code",
      "metadata": {
        "id": "eioBP3oRSm3I"
      },
      "source": [
        "# drop Loud Cover column\n",
        "df = df.drop(columns='Loud Cover', axis=1)"
      ],
      "execution_count": null,
      "outputs": []
    },
    {
      "cell_type": "code",
      "metadata": {
        "colab": {
          "base_uri": "https://localhost:8080/"
        },
        "id": "N3smTLAkSpxA",
        "outputId": "429ecbdd-1d4e-43e1-e428-bb71345f329e"
      },
      "source": [
        "df.shape"
      ],
      "execution_count": null,
      "outputs": [
        {
          "output_type": "execute_result",
          "data": {
            "text/plain": [
              "(96429, 9)"
            ]
          },
          "metadata": {
            "tags": []
          },
          "execution_count": 15
        }
      ]
    },
    {
      "cell_type": "code",
      "metadata": {
        "colab": {
          "base_uri": "https://localhost:8080/"
        },
        "id": "nTjqQnXESs7R",
        "outputId": "f42a9a46-c2e0-41bc-f434-66e6f6e0e2c4"
      },
      "source": [
        "# Check whether any missing values are available\n",
        "df.isnull().values.any()"
      ],
      "execution_count": null,
      "outputs": [
        {
          "output_type": "execute_result",
          "data": {
            "text/plain": [
              "True"
            ]
          },
          "metadata": {
            "tags": []
          },
          "execution_count": 16
        }
      ]
    },
    {
      "cell_type": "code",
      "metadata": {
        "colab": {
          "base_uri": "https://localhost:8080/"
        },
        "id": "rG-rkk41Svf1",
        "outputId": "48f2650f-f6b7-47b7-b49c-b51fafd59804"
      },
      "source": [
        "# Check whether all the values are missing\n",
        "df.isnull().values.all()"
      ],
      "execution_count": null,
      "outputs": [
        {
          "output_type": "execute_result",
          "data": {
            "text/plain": [
              "False"
            ]
          },
          "metadata": {
            "tags": []
          },
          "execution_count": 17
        }
      ]
    },
    {
      "cell_type": "code",
      "metadata": {
        "colab": {
          "base_uri": "https://localhost:8080/"
        },
        "id": "K0Aoo3TjSzK2",
        "outputId": "fb922a95-6ff9-486b-c019-54e3d36b0eae"
      },
      "source": [
        "# check the count of each column's null values \n",
        "df.isnull().sum()"
      ],
      "execution_count": null,
      "outputs": [
        {
          "output_type": "execute_result",
          "data": {
            "text/plain": [
              "Summary                       0\n",
              "Precip Type                 517\n",
              "Temperature (C)               0\n",
              "Apparent Temperature (C)      0\n",
              "Humidity                      0\n",
              "Wind Speed (km/h)             0\n",
              "Wind Bearing (degrees)        0\n",
              "Visibility (km)               0\n",
              "Pressure (millibars)          0\n",
              "dtype: int64"
            ]
          },
          "metadata": {
            "tags": []
          },
          "execution_count": 18
        }
      ]
    },
    {
      "cell_type": "code",
      "metadata": {
        "colab": {
          "base_uri": "https://localhost:8080/"
        },
        "id": "-OEkwpQlS179",
        "outputId": "367895c6-263a-4aea-a581-4a19df474318"
      },
      "source": [
        "# total count of the null values\n",
        "df.isnull().sum().sum()"
      ],
      "execution_count": null,
      "outputs": [
        {
          "output_type": "execute_result",
          "data": {
            "text/plain": [
              "517"
            ]
          },
          "metadata": {
            "tags": []
          },
          "execution_count": 19
        }
      ]
    },
    {
      "cell_type": "code",
      "metadata": {
        "colab": {
          "base_uri": "https://localhost:8080/"
        },
        "id": "Tln7JO6uS4-_",
        "outputId": "c073e508-6023-4d8e-d424-a678d7e3d603"
      },
      "source": [
        "# missing percentage\n",
        "missing_percentage = (df.isnull().sum() * 100 / len(df))\n",
        "missing_percentage"
      ],
      "execution_count": null,
      "outputs": [
        {
          "output_type": "execute_result",
          "data": {
            "text/plain": [
              "Summary                     0.000000\n",
              "Precip Type                 0.536146\n",
              "Temperature (C)             0.000000\n",
              "Apparent Temperature (C)    0.000000\n",
              "Humidity                    0.000000\n",
              "Wind Speed (km/h)           0.000000\n",
              "Wind Bearing (degrees)      0.000000\n",
              "Visibility (km)             0.000000\n",
              "Pressure (millibars)        0.000000\n",
              "dtype: float64"
            ]
          },
          "metadata": {
            "tags": []
          },
          "execution_count": 20
        }
      ]
    },
    {
      "cell_type": "code",
      "metadata": {
        "colab": {
          "base_uri": "https://localhost:8080/"
        },
        "id": "8Zs8LtS5S7pX",
        "outputId": "415908c5-7c8d-4efa-a3f7-f158d60cd4c1"
      },
      "source": [
        "df['Precip Type']"
      ],
      "execution_count": null,
      "outputs": [
        {
          "output_type": "execute_result",
          "data": {
            "text/plain": [
              "0        rain\n",
              "1        rain\n",
              "2        rain\n",
              "3        rain\n",
              "4        rain\n",
              "         ... \n",
              "96424    rain\n",
              "96425    rain\n",
              "96426    rain\n",
              "96427    rain\n",
              "96428    rain\n",
              "Name: Precip Type, Length: 96429, dtype: object"
            ]
          },
          "metadata": {
            "tags": []
          },
          "execution_count": 21
        }
      ]
    },
    {
      "cell_type": "code",
      "metadata": {
        "colab": {
          "base_uri": "https://localhost:8080/"
        },
        "id": "5JpwPnpCS-2y",
        "outputId": "502fde41-2e16-4910-fc98-cb5e37e1b5b3"
      },
      "source": [
        "df['Precip Type'].value_counts()"
      ],
      "execution_count": null,
      "outputs": [
        {
          "output_type": "execute_result",
          "data": {
            "text/plain": [
              "rain    85200\n",
              "snow    10712\n",
              "Name: Precip Type, dtype: int64"
            ]
          },
          "metadata": {
            "tags": []
          },
          "execution_count": 22
        }
      ]
    },
    {
      "cell_type": "code",
      "metadata": {
        "id": "ZwjciWdzTCJM"
      },
      "source": [
        "# since the percentage is very low, drop the missing values\n",
        "new_df = df.copy()\n",
        "new_df = new_df.dropna(axis=0)\n",
        "new_df = new_df.reset_index(drop=True)"
      ],
      "execution_count": null,
      "outputs": []
    },
    {
      "cell_type": "code",
      "metadata": {
        "colab": {
          "base_uri": "https://localhost:8080/"
        },
        "id": "KFADYTDETFC3",
        "outputId": "34f2f198-5b5c-4068-d6f8-9fa2b57cb62c"
      },
      "source": [
        "new_df.isnull().sum()"
      ],
      "execution_count": null,
      "outputs": [
        {
          "output_type": "execute_result",
          "data": {
            "text/plain": [
              "Summary                     0\n",
              "Precip Type                 0\n",
              "Temperature (C)             0\n",
              "Apparent Temperature (C)    0\n",
              "Humidity                    0\n",
              "Wind Speed (km/h)           0\n",
              "Wind Bearing (degrees)      0\n",
              "Visibility (km)             0\n",
              "Pressure (millibars)        0\n",
              "dtype: int64"
            ]
          },
          "metadata": {
            "tags": []
          },
          "execution_count": 24
        }
      ]
    },
    {
      "cell_type": "code",
      "metadata": {
        "colab": {
          "base_uri": "https://localhost:8080/"
        },
        "id": "2ZXYgNXQTH_j",
        "outputId": "b707c0b8-e2c8-4a73-a5d8-71c6841d6c75"
      },
      "source": [
        "new_df.info"
      ],
      "execution_count": null,
      "outputs": [
        {
          "output_type": "execute_result",
          "data": {
            "text/plain": [
              "<bound method DataFrame.info of              Summary Precip Type  ...  Visibility (km)  Pressure (millibars)\n",
              "0      Partly Cloudy        rain  ...          15.8263               1015.13\n",
              "1      Partly Cloudy        rain  ...          15.8263               1015.63\n",
              "2      Mostly Cloudy        rain  ...          14.9569               1015.94\n",
              "3      Partly Cloudy        rain  ...          15.8263               1016.41\n",
              "4      Mostly Cloudy        rain  ...          15.8263               1016.51\n",
              "...              ...         ...  ...              ...                   ...\n",
              "95907  Partly Cloudy        rain  ...          16.1000               1014.36\n",
              "95908  Partly Cloudy        rain  ...          15.5526               1015.16\n",
              "95909  Partly Cloudy        rain  ...          16.1000               1015.66\n",
              "95910  Partly Cloudy        rain  ...          16.1000               1015.95\n",
              "95911  Partly Cloudy        rain  ...          15.5204               1016.16\n",
              "\n",
              "[95912 rows x 9 columns]>"
            ]
          },
          "metadata": {
            "tags": []
          },
          "execution_count": 25
        }
      ]
    },
    {
      "cell_type": "code",
      "metadata": {
        "colab": {
          "base_uri": "https://localhost:8080/",
          "height": 283
        },
        "id": "11wTbbQ6TOWK",
        "outputId": "cb91ea38-c443-40b8-a19f-ada4af01acd4"
      },
      "source": [
        "new_df.boxplot()"
      ],
      "execution_count": null,
      "outputs": [
        {
          "output_type": "execute_result",
          "data": {
            "text/plain": [
              "<matplotlib.axes._subplots.AxesSubplot at 0x7f86c7d1fa90>"
            ]
          },
          "metadata": {
            "tags": []
          },
          "execution_count": 26
        },
        {
          "output_type": "display_data",
          "data": {
            "image/png": "[encoded data removed]",
            "text/plain": [
              "<Figure size 432x288 with 1 Axes>"
            ]
          },
          "metadata": {
            "tags": [],
            "needs_background": "light"
          }
        }
      ]
    },
    {
      "cell_type": "code",
      "metadata": {
        "colab": {
          "base_uri": "https://localhost:8080/"
        },
        "id": "CaGDgNJcTRti",
        "outputId": "8275f471-5155-42b0-ca88-5fcdb40992b8"
      },
      "source": [
        "columns = ['Temperature (C)','Apparent Temperature (C)','Humidity','Wind Speed (km/h)','Wind Bearing (degrees)','Visibility (km)','Pressure (millibars)']\n",
        "print(columns)"
      ],
      "execution_count": null,
      "outputs": [
        {
          "output_type": "stream",
          "text": [
            "['Temperature (C)', 'Apparent Temperature (C)', 'Humidity', 'Wind Speed (km/h)', 'Wind Bearing (degrees)', 'Visibility (km)', 'Pressure (millibars)']\n"
          ],
          "name": "stdout"
        }
      ]
    },
    {
      "cell_type": "code",
      "metadata": {
        "colab": {
          "base_uri": "https://localhost:8080/",
          "height": 283
        },
        "id": "C9d1wjuGTUlA",
        "outputId": "4cfb5d2c-6261-4cd0-c912-f36669381c22"
      },
      "source": [
        "# Check any outliers in the dataset under each feature\n",
        "temp_df = pd.DataFrame(new_df, columns=[columns[0]])\n",
        "temp_df.boxplot()"
      ],
      "execution_count": null,
      "outputs": [
        {
          "output_type": "execute_result",
          "data": {
            "text/plain": [
              "<matplotlib.axes._subplots.AxesSubplot at 0x7f028f550b50>"
            ]
          },
          "metadata": {
            "tags": []
          },
          "execution_count": 275
        },
        {
          "output_type": "display_data",
          "data": {
            "image/png": "[encoded data removed]",
            "text/plain": [
              "<Figure size 432x288 with 1 Axes>"
            ]
          },
          "metadata": {
            "tags": [],
            "needs_background": "light"
          }
        }
      ]
    },
    {
      "cell_type": "code",
      "metadata": {
        "colab": {
          "base_uri": "https://localhost:8080/",
          "height": 283
        },
        "id": "667Rmy8rTzho",
        "outputId": "d27fea24-407c-4e16-a46d-b90aa9ebc18e"
      },
      "source": [
        "# Check any outliers in the dataset under each feature\n",
        "temp_df = pd.DataFrame(new_df, columns=[columns[1]])\n",
        "temp_df.boxplot()"
      ],
      "execution_count": null,
      "outputs": [
        {
          "output_type": "execute_result",
          "data": {
            "text/plain": [
              "<matplotlib.axes._subplots.AxesSubplot at 0x7f028f4d94d0>"
            ]
          },
          "metadata": {
            "tags": []
          },
          "execution_count": 276
        },
        {
          "output_type": "display_data",
          "data": {
            "image/png": "[encoded data removed]",
            "text/plain": [
              "<Figure size 432x288 with 1 Axes>"
            ]
          },
          "metadata": {
            "tags": [],
            "needs_background": "light"
          }
        }
      ]
    },
    {
      "cell_type": "code",
      "metadata": {
        "colab": {
          "base_uri": "https://localhost:8080/",
          "height": 609
        },
        "id": "8W8k0x-5UIfU",
        "outputId": "27e3ed0b-17f7-4c94-85f3-714368017ff3"
      },
      "source": [
        "# Check any outliers in the dataset under each feature\n",
        "temp_df = pd.DataFrame(new_df, columns=[columns[2]])\n",
        "temp_df.boxplot(figsize=(10,10))"
      ],
      "execution_count": null,
      "outputs": [
        {
          "output_type": "execute_result",
          "data": {
            "text/plain": [
              "<matplotlib.axes._subplots.AxesSubplot at 0x7f028f4c7110>"
            ]
          },
          "metadata": {
            "tags": []
          },
          "execution_count": 277
        },
        {
          "output_type": "display_data",
          "data": {
            "image/png": "[encoded data removed]",
            "text/plain": [
              "<Figure size 720x720 with 1 Axes>"
            ]
          },
          "metadata": {
            "tags": [],
            "needs_background": "light"
          }
        }
      ]
    },
    {
      "cell_type": "code",
      "metadata": {
        "colab": {
          "base_uri": "https://localhost:8080/",
          "height": 283
        },
        "id": "1UNxMKLnWDjI",
        "outputId": "bf6158ba-2e3e-4cd5-caea-cb4773a6d711"
      },
      "source": [
        "# Check any outliers in the dataset under each feature\n",
        "temp_df = pd.DataFrame(new_df, columns=[columns[3]])\n",
        "temp_df.boxplot()"
      ],
      "execution_count": null,
      "outputs": [
        {
          "output_type": "execute_result",
          "data": {
            "text/plain": [
              "<matplotlib.axes._subplots.AxesSubplot at 0x7f028f401c90>"
            ]
          },
          "metadata": {
            "tags": []
          },
          "execution_count": 278
        },
        {
          "output_type": "display_data",
          "data": {
            "image/png": "[encoded data removed]",
            "text/plain": [
              "<Figure size 432x288 with 1 Axes>"
            ]
          },
          "metadata": {
            "tags": [],
            "needs_background": "light"
          }
        }
      ]
    },
    {
      "cell_type": "code",
      "metadata": {
        "colab": {
          "base_uri": "https://localhost:8080/",
          "height": 283
        },
        "id": "fWihI6ZZWSyo",
        "outputId": "15e40149-a90a-45c0-874d-e231dd6de7b3"
      },
      "source": [
        "# Check any outliers in the dataset under each feature\n",
        "temp_df = pd.DataFrame(new_df, columns=[columns[4]])\n",
        "temp_df.boxplot()"
      ],
      "execution_count": null,
      "outputs": [
        {
          "output_type": "execute_result",
          "data": {
            "text/plain": [
              "<matplotlib.axes._subplots.AxesSubplot at 0x7f028f380dd0>"
            ]
          },
          "metadata": {
            "tags": []
          },
          "execution_count": 279
        },
        {
          "output_type": "display_data",
          "data": {
            "image/png": "[encoded data removed]",
            "text/plain": [
              "<Figure size 432x288 with 1 Axes>"
            ]
          },
          "metadata": {
            "tags": [],
            "needs_background": "light"
          }
        }
      ]
    },
    {
      "cell_type": "code",
      "metadata": {
        "colab": {
          "base_uri": "https://localhost:8080/",
          "height": 283
        },
        "id": "npe3KUmfWWLA",
        "outputId": "c9fd5f18-ec0d-409b-a2dd-6b27b0105024"
      },
      "source": [
        "# Check any outliers in the dataset under each feature\n",
        "temp_df = pd.DataFrame(new_df, columns=[columns[5]])\n",
        "temp_df.boxplot()"
      ],
      "execution_count": null,
      "outputs": [
        {
          "output_type": "execute_result",
          "data": {
            "text/plain": [
              "<matplotlib.axes._subplots.AxesSubplot at 0x7f028f2f26d0>"
            ]
          },
          "metadata": {
            "tags": []
          },
          "execution_count": 280
        },
        {
          "output_type": "display_data",
          "data": {
            "image/png": "[encoded data removed]",
            "text/plain": [
              "<Figure size 432x288 with 1 Axes>"
            ]
          },
          "metadata": {
            "tags": [],
            "needs_background": "light"
          }
        }
      ]
    },
    {
      "cell_type": "code",
      "metadata": {
        "colab": {
          "base_uri": "https://localhost:8080/",
          "height": 283
        },
        "id": "HL94AKiLWZXY",
        "outputId": "52c96c04-20bd-4877-f310-8025f1a9f9dd"
      },
      "source": [
        "# Check any outliers in the dataset under each feature\n",
        "temp_df = pd.DataFrame(new_df, columns=[columns[6]])\n",
        "temp_df.boxplot()"
      ],
      "execution_count": null,
      "outputs": [
        {
          "output_type": "execute_result",
          "data": {
            "text/plain": [
              "<matplotlib.axes._subplots.AxesSubplot at 0x7f028f267b10>"
            ]
          },
          "metadata": {
            "tags": []
          },
          "execution_count": 281
        },
        {
          "output_type": "display_data",
          "data": {
            "image/png": "[encoded data removed]",
            "text/plain": [
              "<Figure size 432x288 with 1 Axes>"
            ]
          },
          "metadata": {
            "tags": [],
            "needs_background": "light"
          }
        }
      ]
    },
    {
      "cell_type": "code",
      "metadata": {
        "colab": {
          "base_uri": "https://localhost:8080/"
        },
        "id": "lt42Q3wlaDlb",
        "outputId": "2dd71db6-d324-4485-e786-4b19b31e301f"
      },
      "source": [
        "# dropping outliers\n",
        "df2 =new_df.drop(new_df[new_df['Pressure (millibars)'] < 200].index)\n",
        "print(\"Before Shape:\",new_df.shape)\n",
        "print(\"After Shape:\",df2.shape)\n",
        "\n",
        "# replace new dataset with previous and reset indexes\n",
        "new_df = df2;\n",
        "new_df = new_df.reset_index(drop=True)"
      ],
      "execution_count": null,
      "outputs": [
        {
          "output_type": "stream",
          "text": [
            "Before Shape: (95912, 9)\n",
            "After Shape: (94624, 9)\n"
          ],
          "name": "stdout"
        }
      ]
    },
    {
      "cell_type": "code",
      "metadata": {
        "colab": {
          "base_uri": "https://localhost:8080/",
          "height": 287
        },
        "id": "pwyt05sxbrnn",
        "outputId": "089beac5-e600-4b21-bd2e-5cc5f9184c74"
      },
      "source": [
        "temp_df = pd.DataFrame(new_df, columns=[columns[6]])\n",
        "temp_df.boxplot()"
      ],
      "execution_count": null,
      "outputs": [
        {
          "output_type": "execute_result",
          "data": {
            "text/plain": [
              "<matplotlib.axes._subplots.AxesSubplot at 0x7f028f22fe90>"
            ]
          },
          "metadata": {
            "tags": []
          },
          "execution_count": 283
        },
        {
          "output_type": "display_data",
          "data": {
            "image/png": "[encoded data removed]",
            "text/plain": [
              "<Figure size 432x288 with 1 Axes>"
            ]
          },
          "metadata": {
            "tags": [],
            "needs_background": "light"
          }
        }
      ]
    },
    {
      "cell_type": "code",
      "metadata": {
        "colab": {
          "base_uri": "https://localhost:8080/"
        },
        "id": "WYsMEj5eb4Lx",
        "outputId": "292fe0c9-56d8-4309-8534-e64b1c3c77ba"
      },
      "source": [
        "new_df.info"
      ],
      "execution_count": null,
      "outputs": [
        {
          "output_type": "execute_result",
          "data": {
            "text/plain": [
              "<bound method DataFrame.info of              Summary Precip Type  ...  Visibility (km)  Pressure (millibars)\n",
              "0      Partly Cloudy        rain  ...          15.8263               1015.13\n",
              "1      Partly Cloudy        rain  ...          15.8263               1015.63\n",
              "2      Mostly Cloudy        rain  ...          14.9569               1015.94\n",
              "3      Partly Cloudy        rain  ...          15.8263               1016.41\n",
              "4      Mostly Cloudy        rain  ...          15.8263               1016.51\n",
              "...              ...         ...  ...              ...                   ...\n",
              "94619  Partly Cloudy        rain  ...          16.1000               1014.36\n",
              "94620  Partly Cloudy        rain  ...          15.5526               1015.16\n",
              "94621  Partly Cloudy        rain  ...          16.1000               1015.66\n",
              "94622  Partly Cloudy        rain  ...          16.1000               1015.95\n",
              "94623  Partly Cloudy        rain  ...          15.5204               1016.16\n",
              "\n",
              "[94624 rows x 9 columns]>"
            ]
          },
          "metadata": {
            "tags": []
          },
          "execution_count": 285
        }
      ]
    },
    {
      "cell_type": "code",
      "metadata": {
        "colab": {
          "base_uri": "https://localhost:8080/",
          "height": 358
        },
        "id": "YVGz_smZcNAF",
        "outputId": "40c46223-1654-438d-cfe6-bad7349e8fd8"
      },
      "source": [
        "# Put the target (apparent temperature) in another DataFrame\n",
        "target = pd.DataFrame(new_df, columns=[\"Apparent Temperature (C)\"])\n",
        "target.head(10)"
      ],
      "execution_count": null,
      "outputs": [
        {
          "output_type": "execute_result",
          "data": {
            "text/html": [
              "<div>\n",
              "<style scoped>\n",
              "    .dataframe tbody tr th:only-of-type {\n",
              "        vertical-align: middle;\n",
              "    }\n",
              "\n",
              "    .dataframe tbody tr th {\n",
              "        vertical-align: top;\n",
              "    }\n",
              "\n",
              "    .dataframe thead th {\n",
              "        text-align: right;\n",
              "    }\n",
              "</style>\n",
              "<table border=\"1\" class=\"dataframe\">\n",
              "  <thead>\n",
              "    <tr style=\"text-align: right;\">\n",
              "      <th></th>\n",
              "      <th>Apparent Temperature (C)</th>\n",
              "    </tr>\n",
              "  </thead>\n",
              "  <tbody>\n",
              "    <tr>\n",
              "      <th>0</th>\n",
              "      <td>7.388889</td>\n",
              "    </tr>\n",
              "    <tr>\n",
              "      <th>1</th>\n",
              "      <td>7.227778</td>\n",
              "    </tr>\n",
              "    <tr>\n",
              "      <th>2</th>\n",
              "      <td>9.377778</td>\n",
              "    </tr>\n",
              "    <tr>\n",
              "      <th>3</th>\n",
              "      <td>5.944444</td>\n",
              "    </tr>\n",
              "    <tr>\n",
              "      <th>4</th>\n",
              "      <td>6.977778</td>\n",
              "    </tr>\n",
              "    <tr>\n",
              "      <th>5</th>\n",
              "      <td>7.111111</td>\n",
              "    </tr>\n",
              "    <tr>\n",
              "      <th>6</th>\n",
              "      <td>5.522222</td>\n",
              "    </tr>\n",
              "    <tr>\n",
              "      <th>7</th>\n",
              "      <td>6.527778</td>\n",
              "    </tr>\n",
              "    <tr>\n",
              "      <th>8</th>\n",
              "      <td>10.822222</td>\n",
              "    </tr>\n",
              "    <tr>\n",
              "      <th>9</th>\n",
              "      <td>13.772222</td>\n",
              "    </tr>\n",
              "  </tbody>\n",
              "</table>\n",
              "</div>"
            ],
            "text/plain": [
              "   Apparent Temperature (C)\n",
              "0                  7.388889\n",
              "1                  7.227778\n",
              "2                  9.377778\n",
              "3                  5.944444\n",
              "4                  6.977778\n",
              "5                  7.111111\n",
              "6                  5.522222\n",
              "7                  6.527778\n",
              "8                 10.822222\n",
              "9                 13.772222"
            ]
          },
          "metadata": {
            "tags": []
          },
          "execution_count": 29
        }
      ]
    },
    {
      "cell_type": "code",
      "metadata": {
        "colab": {
          "base_uri": "https://localhost:8080/",
          "height": 305
        },
        "id": "0GJ_-vPZcP7w",
        "outputId": "1db6e172-8869-4d2e-b476-1a22e58994b5"
      },
      "source": [
        "# define the data/predictors as the pre-set feature names  \n",
        "new_df = new_df.drop('Apparent Temperature (C)', 1)\n",
        "new_df.head()"
      ],
      "execution_count": null,
      "outputs": [
        {
          "output_type": "execute_result",
          "data": {
            "text/html": [
              "<div>\n",
              "<style scoped>\n",
              "    .dataframe tbody tr th:only-of-type {\n",
              "        vertical-align: middle;\n",
              "    }\n",
              "\n",
              "    .dataframe tbody tr th {\n",
              "        vertical-align: top;\n",
              "    }\n",
              "\n",
              "    .dataframe thead th {\n",
              "        text-align: right;\n",
              "    }\n",
              "</style>\n",
              "<table border=\"1\" class=\"dataframe\">\n",
              "  <thead>\n",
              "    <tr style=\"text-align: right;\">\n",
              "      <th></th>\n",
              "      <th>Summary</th>\n",
              "      <th>Precip Type</th>\n",
              "      <th>Temperature (C)</th>\n",
              "      <th>Humidity</th>\n",
              "      <th>Wind Speed (km/h)</th>\n",
              "      <th>Wind Bearing (degrees)</th>\n",
              "      <th>Visibility (km)</th>\n",
              "      <th>Pressure (millibars)</th>\n",
              "    </tr>\n",
              "  </thead>\n",
              "  <tbody>\n",
              "    <tr>\n",
              "      <th>0</th>\n",
              "      <td>Partly Cloudy</td>\n",
              "      <td>rain</td>\n",
              "      <td>9.472222</td>\n",
              "      <td>0.89</td>\n",
              "      <td>14.1197</td>\n",
              "      <td>251.0</td>\n",
              "      <td>15.8263</td>\n",
              "      <td>1015.13</td>\n",
              "    </tr>\n",
              "    <tr>\n",
              "      <th>1</th>\n",
              "      <td>Partly Cloudy</td>\n",
              "      <td>rain</td>\n",
              "      <td>9.355556</td>\n",
              "      <td>0.86</td>\n",
              "      <td>14.2646</td>\n",
              "      <td>259.0</td>\n",
              "      <td>15.8263</td>\n",
              "      <td>1015.63</td>\n",
              "    </tr>\n",
              "    <tr>\n",
              "      <th>2</th>\n",
              "      <td>Mostly Cloudy</td>\n",
              "      <td>rain</td>\n",
              "      <td>9.377778</td>\n",
              "      <td>0.89</td>\n",
              "      <td>3.9284</td>\n",
              "      <td>204.0</td>\n",
              "      <td>14.9569</td>\n",
              "      <td>1015.94</td>\n",
              "    </tr>\n",
              "    <tr>\n",
              "      <th>3</th>\n",
              "      <td>Partly Cloudy</td>\n",
              "      <td>rain</td>\n",
              "      <td>8.288889</td>\n",
              "      <td>0.83</td>\n",
              "      <td>14.1036</td>\n",
              "      <td>269.0</td>\n",
              "      <td>15.8263</td>\n",
              "      <td>1016.41</td>\n",
              "    </tr>\n",
              "    <tr>\n",
              "      <th>4</th>\n",
              "      <td>Mostly Cloudy</td>\n",
              "      <td>rain</td>\n",
              "      <td>8.755556</td>\n",
              "      <td>0.83</td>\n",
              "      <td>11.0446</td>\n",
              "      <td>259.0</td>\n",
              "      <td>15.8263</td>\n",
              "      <td>1016.51</td>\n",
              "    </tr>\n",
              "  </tbody>\n",
              "</table>\n",
              "</div>"
            ],
            "text/plain": [
              "         Summary Precip Type  ...  Visibility (km)  Pressure (millibars)\n",
              "0  Partly Cloudy        rain  ...          15.8263               1015.13\n",
              "1  Partly Cloudy        rain  ...          15.8263               1015.63\n",
              "2  Mostly Cloudy        rain  ...          14.9569               1015.94\n",
              "3  Partly Cloudy        rain  ...          15.8263               1016.41\n",
              "4  Mostly Cloudy        rain  ...          15.8263               1016.51\n",
              "\n",
              "[5 rows x 8 columns]"
            ]
          },
          "metadata": {
            "tags": []
          },
          "execution_count": 30
        }
      ]
    },
    {
      "cell_type": "code",
      "metadata": {
        "colab": {
          "base_uri": "https://localhost:8080/",
          "height": 544
        },
        "id": "xsrhJBdrcUlh",
        "outputId": "c31043d9-50c9-445a-caff-0a08fcb3eaf2"
      },
      "source": [
        "X = new_df.copy() #dataset has been copied to  X\n",
        "y_true = target\n",
        "X.head(10)"
      ],
      "execution_count": null,
      "outputs": [
        {
          "output_type": "execute_result",
          "data": {
            "text/html": [
              "<div>\n",
              "<style scoped>\n",
              "    .dataframe tbody tr th:only-of-type {\n",
              "        vertical-align: middle;\n",
              "    }\n",
              "\n",
              "    .dataframe tbody tr th {\n",
              "        vertical-align: top;\n",
              "    }\n",
              "\n",
              "    .dataframe thead th {\n",
              "        text-align: right;\n",
              "    }\n",
              "</style>\n",
              "<table border=\"1\" class=\"dataframe\">\n",
              "  <thead>\n",
              "    <tr style=\"text-align: right;\">\n",
              "      <th></th>\n",
              "      <th>Summary</th>\n",
              "      <th>Precip Type</th>\n",
              "      <th>Temperature (C)</th>\n",
              "      <th>Humidity</th>\n",
              "      <th>Wind Speed (km/h)</th>\n",
              "      <th>Wind Bearing (degrees)</th>\n",
              "      <th>Visibility (km)</th>\n",
              "      <th>Pressure (millibars)</th>\n",
              "    </tr>\n",
              "  </thead>\n",
              "  <tbody>\n",
              "    <tr>\n",
              "      <th>0</th>\n",
              "      <td>Partly Cloudy</td>\n",
              "      <td>rain</td>\n",
              "      <td>9.472222</td>\n",
              "      <td>0.89</td>\n",
              "      <td>14.1197</td>\n",
              "      <td>251.0</td>\n",
              "      <td>15.8263</td>\n",
              "      <td>1015.13</td>\n",
              "    </tr>\n",
              "    <tr>\n",
              "      <th>1</th>\n",
              "      <td>Partly Cloudy</td>\n",
              "      <td>rain</td>\n",
              "      <td>9.355556</td>\n",
              "      <td>0.86</td>\n",
              "      <td>14.2646</td>\n",
              "      <td>259.0</td>\n",
              "      <td>15.8263</td>\n",
              "      <td>1015.63</td>\n",
              "    </tr>\n",
              "    <tr>\n",
              "      <th>2</th>\n",
              "      <td>Mostly Cloudy</td>\n",
              "      <td>rain</td>\n",
              "      <td>9.377778</td>\n",
              "      <td>0.89</td>\n",
              "      <td>3.9284</td>\n",
              "      <td>204.0</td>\n",
              "      <td>14.9569</td>\n",
              "      <td>1015.94</td>\n",
              "    </tr>\n",
              "    <tr>\n",
              "      <th>3</th>\n",
              "      <td>Partly Cloudy</td>\n",
              "      <td>rain</td>\n",
              "      <td>8.288889</td>\n",
              "      <td>0.83</td>\n",
              "      <td>14.1036</td>\n",
              "      <td>269.0</td>\n",
              "      <td>15.8263</td>\n",
              "      <td>1016.41</td>\n",
              "    </tr>\n",
              "    <tr>\n",
              "      <th>4</th>\n",
              "      <td>Mostly Cloudy</td>\n",
              "      <td>rain</td>\n",
              "      <td>8.755556</td>\n",
              "      <td>0.83</td>\n",
              "      <td>11.0446</td>\n",
              "      <td>259.0</td>\n",
              "      <td>15.8263</td>\n",
              "      <td>1016.51</td>\n",
              "    </tr>\n",
              "    <tr>\n",
              "      <th>5</th>\n",
              "      <td>Partly Cloudy</td>\n",
              "      <td>rain</td>\n",
              "      <td>9.222222</td>\n",
              "      <td>0.85</td>\n",
              "      <td>13.9587</td>\n",
              "      <td>258.0</td>\n",
              "      <td>14.9569</td>\n",
              "      <td>1016.66</td>\n",
              "    </tr>\n",
              "    <tr>\n",
              "      <th>6</th>\n",
              "      <td>Partly Cloudy</td>\n",
              "      <td>rain</td>\n",
              "      <td>7.733333</td>\n",
              "      <td>0.95</td>\n",
              "      <td>12.3648</td>\n",
              "      <td>259.0</td>\n",
              "      <td>9.9820</td>\n",
              "      <td>1016.72</td>\n",
              "    </tr>\n",
              "    <tr>\n",
              "      <th>7</th>\n",
              "      <td>Partly Cloudy</td>\n",
              "      <td>rain</td>\n",
              "      <td>8.772222</td>\n",
              "      <td>0.89</td>\n",
              "      <td>14.1519</td>\n",
              "      <td>260.0</td>\n",
              "      <td>9.9820</td>\n",
              "      <td>1016.84</td>\n",
              "    </tr>\n",
              "    <tr>\n",
              "      <th>8</th>\n",
              "      <td>Partly Cloudy</td>\n",
              "      <td>rain</td>\n",
              "      <td>10.822222</td>\n",
              "      <td>0.82</td>\n",
              "      <td>11.3183</td>\n",
              "      <td>259.0</td>\n",
              "      <td>9.9820</td>\n",
              "      <td>1017.37</td>\n",
              "    </tr>\n",
              "    <tr>\n",
              "      <th>9</th>\n",
              "      <td>Partly Cloudy</td>\n",
              "      <td>rain</td>\n",
              "      <td>13.772222</td>\n",
              "      <td>0.72</td>\n",
              "      <td>12.5258</td>\n",
              "      <td>279.0</td>\n",
              "      <td>9.9820</td>\n",
              "      <td>1017.22</td>\n",
              "    </tr>\n",
              "  </tbody>\n",
              "</table>\n",
              "</div>"
            ],
            "text/plain": [
              "         Summary Precip Type  ...  Visibility (km)  Pressure (millibars)\n",
              "0  Partly Cloudy        rain  ...          15.8263               1015.13\n",
              "1  Partly Cloudy        rain  ...          15.8263               1015.63\n",
              "2  Mostly Cloudy        rain  ...          14.9569               1015.94\n",
              "3  Partly Cloudy        rain  ...          15.8263               1016.41\n",
              "4  Mostly Cloudy        rain  ...          15.8263               1016.51\n",
              "5  Partly Cloudy        rain  ...          14.9569               1016.66\n",
              "6  Partly Cloudy        rain  ...           9.9820               1016.72\n",
              "7  Partly Cloudy        rain  ...           9.9820               1016.84\n",
              "8  Partly Cloudy        rain  ...           9.9820               1017.37\n",
              "9  Partly Cloudy        rain  ...           9.9820               1017.22\n",
              "\n",
              "[10 rows x 8 columns]"
            ]
          },
          "metadata": {
            "tags": []
          },
          "execution_count": 31
        }
      ]
    },
    {
      "cell_type": "code",
      "metadata": {
        "colab": {
          "base_uri": "https://localhost:8080/",
          "height": 358
        },
        "id": "_h1okpwpcXd3",
        "outputId": "8eb5766d-4d5d-4572-93a3-5fda4d93b815"
      },
      "source": [
        "y_true.head(10)"
      ],
      "execution_count": null,
      "outputs": [
        {
          "output_type": "execute_result",
          "data": {
            "text/html": [
              "<div>\n",
              "<style scoped>\n",
              "    .dataframe tbody tr th:only-of-type {\n",
              "        vertical-align: middle;\n",
              "    }\n",
              "\n",
              "    .dataframe tbody tr th {\n",
              "        vertical-align: top;\n",
              "    }\n",
              "\n",
              "    .dataframe thead th {\n",
              "        text-align: right;\n",
              "    }\n",
              "</style>\n",
              "<table border=\"1\" class=\"dataframe\">\n",
              "  <thead>\n",
              "    <tr style=\"text-align: right;\">\n",
              "      <th></th>\n",
              "      <th>Apparent Temperature (C)</th>\n",
              "    </tr>\n",
              "  </thead>\n",
              "  <tbody>\n",
              "    <tr>\n",
              "      <th>0</th>\n",
              "      <td>7.388889</td>\n",
              "    </tr>\n",
              "    <tr>\n",
              "      <th>1</th>\n",
              "      <td>7.227778</td>\n",
              "    </tr>\n",
              "    <tr>\n",
              "      <th>2</th>\n",
              "      <td>9.377778</td>\n",
              "    </tr>\n",
              "    <tr>\n",
              "      <th>3</th>\n",
              "      <td>5.944444</td>\n",
              "    </tr>\n",
              "    <tr>\n",
              "      <th>4</th>\n",
              "      <td>6.977778</td>\n",
              "    </tr>\n",
              "    <tr>\n",
              "      <th>5</th>\n",
              "      <td>7.111111</td>\n",
              "    </tr>\n",
              "    <tr>\n",
              "      <th>6</th>\n",
              "      <td>5.522222</td>\n",
              "    </tr>\n",
              "    <tr>\n",
              "      <th>7</th>\n",
              "      <td>6.527778</td>\n",
              "    </tr>\n",
              "    <tr>\n",
              "      <th>8</th>\n",
              "      <td>10.822222</td>\n",
              "    </tr>\n",
              "    <tr>\n",
              "      <th>9</th>\n",
              "      <td>13.772222</td>\n",
              "    </tr>\n",
              "  </tbody>\n",
              "</table>\n",
              "</div>"
            ],
            "text/plain": [
              "   Apparent Temperature (C)\n",
              "0                  7.388889\n",
              "1                  7.227778\n",
              "2                  9.377778\n",
              "3                  5.944444\n",
              "4                  6.977778\n",
              "5                  7.111111\n",
              "6                  5.522222\n",
              "7                  6.527778\n",
              "8                 10.822222\n",
              "9                 13.772222"
            ]
          },
          "metadata": {
            "tags": []
          },
          "execution_count": 32
        }
      ]
    },
    {
      "cell_type": "code",
      "metadata": {
        "colab": {
          "base_uri": "https://localhost:8080/"
        },
        "id": "8JX74U3rcbSW",
        "outputId": "261357e4-4dfd-442c-d83e-4c8b2083bf8f"
      },
      "source": [
        "new_df.info"
      ],
      "execution_count": null,
      "outputs": [
        {
          "output_type": "execute_result",
          "data": {
            "text/plain": [
              "<bound method DataFrame.info of              Summary Precip Type  ...  Visibility (km)  Pressure (millibars)\n",
              "0      Partly Cloudy        rain  ...          15.8263               1015.13\n",
              "1      Partly Cloudy        rain  ...          15.8263               1015.63\n",
              "2      Mostly Cloudy        rain  ...          14.9569               1015.94\n",
              "3      Partly Cloudy        rain  ...          15.8263               1016.41\n",
              "4      Mostly Cloudy        rain  ...          15.8263               1016.51\n",
              "...              ...         ...  ...              ...                   ...\n",
              "94619  Partly Cloudy        rain  ...          16.1000               1014.36\n",
              "94620  Partly Cloudy        rain  ...          15.5526               1015.16\n",
              "94621  Partly Cloudy        rain  ...          16.1000               1015.66\n",
              "94622  Partly Cloudy        rain  ...          16.1000               1015.95\n",
              "94623  Partly Cloudy        rain  ...          15.5204               1016.16\n",
              "\n",
              "[94624 rows x 8 columns]>"
            ]
          },
          "metadata": {
            "tags": []
          },
          "execution_count": 33
        }
      ]
    },
    {
      "cell_type": "code",
      "metadata": {
        "colab": {
          "base_uri": "https://localhost:8080/",
          "height": 405
        },
        "id": "IE1KEL3Rc5Y2",
        "outputId": "a5f16da3-14c4-4018-b581-2b54c5b47795"
      },
      "source": [
        "#Check any Transformations are required for the dataset\n",
        "X.hist()"
      ],
      "execution_count": null,
      "outputs": [
        {
          "output_type": "execute_result",
          "data": {
            "text/plain": [
              "array([[<matplotlib.axes._subplots.AxesSubplot object at 0x7f86c7be79d0>,\n",
              "        <matplotlib.axes._subplots.AxesSubplot object at 0x7f86c87f2850>],\n",
              "       [<matplotlib.axes._subplots.AxesSubplot object at 0x7f86c76bf850>,\n",
              "        <matplotlib.axes._subplots.AxesSubplot object at 0x7f86c7675ed0>],\n",
              "       [<matplotlib.axes._subplots.AxesSubplot object at 0x7f86c7637590>,\n",
              "        <matplotlib.axes._subplots.AxesSubplot object at 0x7f86c75ecc10>]],\n",
              "      dtype=object)"
            ]
          },
          "metadata": {
            "tags": []
          },
          "execution_count": 34
        },
        {
          "output_type": "display_data",
          "data": {
            "image/png": "[encoded data removed]",
            "text/plain": [
              "<Figure size 432x288 with 6 Axes>"
            ]
          },
          "metadata": {
            "tags": [],
            "needs_background": "light"
          }
        }
      ]
    },
    {
      "cell_type": "code",
      "metadata": {
        "colab": {
          "base_uri": "https://localhost:8080/"
        },
        "id": "WCF7Y-JAdHM0",
        "outputId": "5f0e84e7-15c2-429f-f53e-42ba686dad0c"
      },
      "source": [
        "X.columns"
      ],
      "execution_count": null,
      "outputs": [
        {
          "output_type": "execute_result",
          "data": {
            "text/plain": [
              "Index(['Summary', 'Precip Type', 'Temperature (C)', 'Humidity',\n",
              "       'Wind Speed (km/h)', 'Wind Bearing (degrees)', 'Visibility (km)',\n",
              "       'Pressure (millibars)'],\n",
              "      dtype='object')"
            ]
          },
          "metadata": {
            "tags": []
          },
          "execution_count": 35
        }
      ]
    },
    {
      "cell_type": "code",
      "metadata": {
        "colab": {
          "base_uri": "https://localhost:8080/",
          "height": 543
        },
        "id": "8MJ3amj5dLPY",
        "outputId": "6b3e2ce1-1174-476b-b1ca-ca3954993aa2"
      },
      "source": [
        "# Q-Q Plot and Histogram - Temperature (C)\n",
        "stats.probplot(X['Temperature (C)'], dist=\"norm\", plot=plt);plt.show();\n",
        "X['Temperature (C)'].hist();"
      ],
      "execution_count": null,
      "outputs": [
        {
          "output_type": "display_data",
          "data": {
            "image/png": "[encoded data removed]",
            "text/plain": [
              "<Figure size 432x288 with 1 Axes>"
            ]
          },
          "metadata": {
            "tags": [],
            "needs_background": "light"
          }
        },
        {
          "output_type": "display_data",
          "data": {
            "image/png": "[encoded data removed]",
            "text/plain": [
              "<Figure size 432x288 with 1 Axes>"
            ]
          },
          "metadata": {
            "tags": [],
            "needs_background": "light"
          }
        }
      ]
    },
    {
      "cell_type": "code",
      "metadata": {
        "colab": {
          "base_uri": "https://localhost:8080/",
          "height": 543
        },
        "id": "ipSVn7b1dPxU",
        "outputId": "7896b554-1f79-4d38-8f8f-550ea251cdac"
      },
      "source": [
        "# Q-Q Plot and Histogram - Apparent Temperature (C)\n",
        "stats.probplot(y_true['Apparent Temperature (C)'], dist=\"norm\", plot=plt);plt.show();\n",
        "y_true['Apparent Temperature (C)'].hist();"
      ],
      "execution_count": null,
      "outputs": [
        {
          "output_type": "display_data",
          "data": {
            "image/png": "[encoded data removed]",
            "text/plain": [
              "<Figure size 432x288 with 1 Axes>"
            ]
          },
          "metadata": {
            "tags": [],
            "needs_background": "light"
          }
        },
        {
          "output_type": "display_data",
          "data": {
            "image/png": "[encoded data removed]",
            "text/plain": [
              "<Figure size 432x288 with 1 Axes>"
            ]
          },
          "metadata": {
            "tags": [],
            "needs_background": "light"
          }
        }
      ]
    },
    {
      "cell_type": "code",
      "metadata": {
        "colab": {
          "base_uri": "https://localhost:8080/",
          "height": 543
        },
        "id": "SdtsDw8hdcKa",
        "outputId": "83d06014-67b6-4939-c733-d5e20fdd34aa"
      },
      "source": [
        "# Q-Q Plot and Histogram - Humidity\n",
        "stats.probplot(X['Humidity'], dist=\"norm\", plot=plt);plt.show();\n",
        "X['Humidity'].hist();"
      ],
      "execution_count": null,
      "outputs": [
        {
          "output_type": "display_data",
          "data": {
            "image/png": "[encoded data removed]",
            "text/plain": [
              "<Figure size 432x288 with 1 Axes>"
            ]
          },
          "metadata": {
            "tags": [],
            "needs_background": "light"
          }
        },
        {
          "output_type": "display_data",
          "data": {
            "image/png": "[encoded data removed]",
            "text/plain": [
              "<Figure size 432x288 with 1 Axes>"
            ]
          },
          "metadata": {
            "tags": [],
            "needs_background": "light"
          }
        }
      ]
    },
    {
      "cell_type": "code",
      "metadata": {
        "colab": {
          "base_uri": "https://localhost:8080/",
          "height": 543
        },
        "id": "Xf5stvopdg4B",
        "outputId": "318dc629-ef86-4e69-f8d2-ba4b65260975"
      },
      "source": [
        "# Q-Q Plot and Histogram - Wind Speed (km/h)\n",
        "stats.probplot(X['Wind Speed (km/h)'], dist=\"norm\", plot=plt);plt.show();\n",
        "X['Wind Speed (km/h)'].hist();"
      ],
      "execution_count": null,
      "outputs": [
        {
          "output_type": "display_data",
          "data": {
            "image/png": "[encoded data removed]",
            "text/plain": [
              "<Figure size 432x288 with 1 Axes>"
            ]
          },
          "metadata": {
            "tags": [],
            "needs_background": "light"
          }
        },
        {
          "output_type": "display_data",
          "data": {
            "image/png": "[encoded data removed]",
            "text/plain": [
              "<Figure size 432x288 with 1 Axes>"
            ]
          },
          "metadata": {
            "tags": [],
            "needs_background": "light"
          }
        }
      ]
    },
    {
      "cell_type": "code",
      "metadata": {
        "colab": {
          "base_uri": "https://localhost:8080/",
          "height": 543
        },
        "id": "QIkcLErXdllK",
        "outputId": "cc636f49-2467-4bfe-c575-c9780a06aa8d"
      },
      "source": [
        "# Q-Q Plot and Histogram - Wind Bearing (degrees)\n",
        "stats.probplot(X['Wind Bearing (degrees)'], dist=\"norm\", plot=plt);plt.show();\n",
        "X['Wind Bearing (degrees)'].hist();"
      ],
      "execution_count": null,
      "outputs": [
        {
          "output_type": "display_data",
          "data": {
            "image/png": "[encoded data removed]",
            "text/plain": [
              "<Figure size 432x288 with 1 Axes>"
            ]
          },
          "metadata": {
            "tags": [],
            "needs_background": "light"
          }
        },
        {
          "output_type": "display_data",
          "data": {
            "image/png": "[encoded data removed]",
            "text/plain": [
              "<Figure size 432x288 with 1 Axes>"
            ]
          },
          "metadata": {
            "tags": [],
            "needs_background": "light"
          }
        }
      ]
    },
    {
      "cell_type": "code",
      "metadata": {
        "colab": {
          "base_uri": "https://localhost:8080/",
          "height": 544
        },
        "id": "JPkzmEgPdpxI",
        "outputId": "ad86a4d2-2b2e-4fe7-a462-b6e89c021363"
      },
      "source": [
        "# Q-Q Plot and Histogram - Visibility (km)\n",
        "stats.probplot(X['Visibility (km)'], dist=\"norm\", plot=plt);plt.show();\n",
        "X['Visibility (km)'].hist();"
      ],
      "execution_count": null,
      "outputs": [
        {
          "output_type": "display_data",
          "data": {
            "image/png": "[encoded data removed]",
            "text/plain": [
              "<Figure size 432x288 with 1 Axes>"
            ]
          },
          "metadata": {
            "tags": [],
            "needs_background": "light"
          }
        },
        {
          "output_type": "display_data",
          "data": {
            "image/png": "[encoded data removed]",
            "text/plain": [
              "<Figure size 432x288 with 1 Axes>"
            ]
          },
          "metadata": {
            "tags": [],
            "needs_background": "light"
          }
        }
      ]
    },
    {
      "cell_type": "code",
      "metadata": {
        "colab": {
          "base_uri": "https://localhost:8080/",
          "height": 543
        },
        "id": "OwO5i_9Kdtik",
        "outputId": "0ce4ae1e-9fd6-43e0-f034-287f3eebc968"
      },
      "source": [
        "# Q-Q Plot and Histogram - Pressure (millibars)\n",
        "stats.probplot(X['Pressure (millibars)'], dist=\"norm\", plot=plt);plt.show();\n",
        "X['Pressure (millibars)'].hist();"
      ],
      "execution_count": null,
      "outputs": [
        {
          "output_type": "display_data",
          "data": {
            "image/png": "[encoded data removed]",
            "text/plain": [
              "<Figure size 432x288 with 1 Axes>"
            ]
          },
          "metadata": {
            "tags": [],
            "needs_background": "light"
          }
        },
        {
          "output_type": "display_data",
          "data": {
            "image/png": "[encoded data removed]",
            "text/plain": [
              "<Figure size 432x288 with 1 Axes>"
            ]
          },
          "metadata": {
            "tags": [],
            "needs_background": "light"
          }
        }
      ]
    },
    {
      "cell_type": "code",
      "metadata": {
        "colab": {
          "base_uri": "https://localhost:8080/",
          "height": 405
        },
        "id": "SDvZoJVfd0X2",
        "outputId": "60a726ba-d076-4daa-a439-b3de4b099c1c"
      },
      "source": [
        "# create columns variables to hold the columns that need transformation\n",
        "columns = ['Wind Speed (km/h)']\n",
        "\n",
        "# create the function transformer object with logarithm transformation\n",
        "logarithm_transformer = FunctionTransformer(np.sqrt, validate=True)\n",
        "\n",
        "# apply the transformation \n",
        "data_new = logarithm_transformer.transform(X[columns])\n",
        "df_new = pd.DataFrame(data_new, columns=columns)\n",
        "\n",
        "# replace new values with previous data frame\n",
        "X['Wind Speed (km/h)'] = df_new['Wind Speed (km/h)']\n",
        "\n",
        "X.hist()"
      ],
      "execution_count": null,
      "outputs": [
        {
          "output_type": "execute_result",
          "data": {
            "text/plain": [
              "array([[<matplotlib.axes._subplots.AxesSubplot object at 0x7f86c7481410>,\n",
              "        <matplotlib.axes._subplots.AxesSubplot object at 0x7f86c744d610>],\n",
              "       [<matplotlib.axes._subplots.AxesSubplot object at 0x7f86c73f9c90>,\n",
              "        <matplotlib.axes._subplots.AxesSubplot object at 0x7f86c73bc350>],\n",
              "       [<matplotlib.axes._subplots.AxesSubplot object at 0x7f86c736f9d0>,\n",
              "        <matplotlib.axes._subplots.AxesSubplot object at 0x7f86c739ab90>]],\n",
              "      dtype=object)"
            ]
          },
          "metadata": {
            "tags": []
          },
          "execution_count": 36
        },
        {
          "output_type": "display_data",
          "data": {
            "image/png": "[encoded data removed]",
            "text/plain": [
              "<Figure size 432x288 with 6 Axes>"
            ]
          },
          "metadata": {
            "tags": [],
            "needs_background": "light"
          }
        }
      ]
    },
    {
      "cell_type": "code",
      "metadata": {
        "colab": {
          "base_uri": "https://localhost:8080/",
          "height": 543
        },
        "id": "nryzWs6_eBS3",
        "outputId": "bc990d7a-77d2-4998-8a7d-11500f06f3fa"
      },
      "source": [
        "# Q-Q Plot and Histogram - Wind Speed (km/h)\n",
        "stats.probplot(X['Wind Speed (km/h)'], dist=\"norm\", plot=plt);plt.show();\n",
        "X['Wind Speed (km/h)'].hist();"
      ],
      "execution_count": null,
      "outputs": [
        {
          "output_type": "display_data",
          "data": {
            "image/png": "[encoded data removed]",
            "text/plain": [
              "<Figure size 432x288 with 1 Axes>"
            ]
          },
          "metadata": {
            "tags": [],
            "needs_background": "light"
          }
        },
        {
          "output_type": "display_data",
          "data": {
            "image/png": "[encoded data removed]",
            "text/plain": [
              "<Figure size 432x288 with 1 Axes>"
            ]
          },
          "metadata": {
            "tags": [],
            "needs_background": "light"
          }
        }
      ]
    },
    {
      "cell_type": "code",
      "metadata": {
        "colab": {
          "base_uri": "https://localhost:8080/",
          "height": 405
        },
        "id": "ggsDRA4keH2T",
        "outputId": "73cc9c87-4d0f-432d-c8d8-57cd74760797"
      },
      "source": [
        "# apply transformations for left skewed distributions\n",
        "columns = ['Humidity']\n",
        "# exponential transformation\n",
        "exponential_transformer = FunctionTransformer(lambda x: x ** 3, validate=True)\n",
        "# apply the transformation \n",
        "exp_data = exponential_transformer.transform(X[columns])\n",
        "exp_df = pd.DataFrame(exp_data, columns=columns)\n",
        "# replace new values with previous data frame\n",
        "X['Humidity'] = exp_df['Humidity']\n",
        "X.hist()"
      ],
      "execution_count": null,
      "outputs": [
        {
          "output_type": "execute_result",
          "data": {
            "text/plain": [
              "array([[<matplotlib.axes._subplots.AxesSubplot object at 0x7f86c72f2410>,\n",
              "        <matplotlib.axes._subplots.AxesSubplot object at 0x7f86c71d9f10>],\n",
              "       [<matplotlib.axes._subplots.AxesSubplot object at 0x7f86c7123110>,\n",
              "        <matplotlib.axes._subplots.AxesSubplot object at 0x7f86c7158690>],\n",
              "       [<matplotlib.axes._subplots.AxesSubplot object at 0x7f86c710dc10>,\n",
              "        <matplotlib.axes._subplots.AxesSubplot object at 0x7f86c70ce1d0>]],\n",
              "      dtype=object)"
            ]
          },
          "metadata": {
            "tags": []
          },
          "execution_count": 37
        },
        {
          "output_type": "display_data",
          "data": {
            "image/png": "[encoded data removed]",
            "text/plain": [
              "<Figure size 432x288 with 6 Axes>"
            ]
          },
          "metadata": {
            "tags": [],
            "needs_background": "light"
          }
        }
      ]
    },
    {
      "cell_type": "code",
      "metadata": {
        "colab": {
          "base_uri": "https://localhost:8080/",
          "height": 543
        },
        "id": "mtsgv-qfeQXc",
        "outputId": "8fba776e-729f-45d0-a78b-5350fe6f78f9"
      },
      "source": [
        "# Q-Q Plot and Histogram - Humidity\n",
        "stats.probplot(X['Humidity'], dist=\"norm\", plot=plt);plt.show();\n",
        "X['Humidity'].hist();"
      ],
      "execution_count": null,
      "outputs": [
        {
          "output_type": "display_data",
          "data": {
            "image/png": "[encoded data removed]",
            "text/plain": [
              "<Figure size 432x288 with 1 Axes>"
            ]
          },
          "metadata": {
            "tags": [],
            "needs_background": "light"
          }
        },
        {
          "output_type": "display_data",
          "data": {
            "image/png": "[encoded data removed]",
            "text/plain": [
              "<Figure size 432x288 with 1 Axes>"
            ]
          },
          "metadata": {
            "tags": [],
            "needs_background": "light"
          }
        }
      ]
    },
    {
      "cell_type": "code",
      "metadata": {
        "colab": {
          "base_uri": "https://localhost:8080/",
          "height": 202
        },
        "id": "3reDgYE8eWb4",
        "outputId": "a5c44c3d-81ad-4bde-a76e-ef5ad7f52717"
      },
      "source": [
        "X.head()"
      ],
      "execution_count": null,
      "outputs": [
        {
          "output_type": "execute_result",
          "data": {
            "text/html": [
              "<div>\n",
              "<style scoped>\n",
              "    .dataframe tbody tr th:only-of-type {\n",
              "        vertical-align: middle;\n",
              "    }\n",
              "\n",
              "    .dataframe tbody tr th {\n",
              "        vertical-align: top;\n",
              "    }\n",
              "\n",
              "    .dataframe thead th {\n",
              "        text-align: right;\n",
              "    }\n",
              "</style>\n",
              "<table border=\"1\" class=\"dataframe\">\n",
              "  <thead>\n",
              "    <tr style=\"text-align: right;\">\n",
              "      <th></th>\n",
              "      <th>Summary</th>\n",
              "      <th>Precip Type</th>\n",
              "      <th>Temperature (C)</th>\n",
              "      <th>Humidity</th>\n",
              "      <th>Wind Speed (km/h)</th>\n",
              "      <th>Wind Bearing (degrees)</th>\n",
              "      <th>Visibility (km)</th>\n",
              "      <th>Pressure (millibars)</th>\n",
              "    </tr>\n",
              "  </thead>\n",
              "  <tbody>\n",
              "    <tr>\n",
              "      <th>0</th>\n",
              "      <td>Partly Cloudy</td>\n",
              "      <td>rain</td>\n",
              "      <td>9.472222</td>\n",
              "      <td>0.704969</td>\n",
              "      <td>3.757619</td>\n",
              "      <td>251.0</td>\n",
              "      <td>15.8263</td>\n",
              "      <td>1015.13</td>\n",
              "    </tr>\n",
              "    <tr>\n",
              "      <th>1</th>\n",
              "      <td>Partly Cloudy</td>\n",
              "      <td>rain</td>\n",
              "      <td>9.355556</td>\n",
              "      <td>0.636056</td>\n",
              "      <td>3.776851</td>\n",
              "      <td>259.0</td>\n",
              "      <td>15.8263</td>\n",
              "      <td>1015.63</td>\n",
              "    </tr>\n",
              "    <tr>\n",
              "      <th>2</th>\n",
              "      <td>Mostly Cloudy</td>\n",
              "      <td>rain</td>\n",
              "      <td>9.377778</td>\n",
              "      <td>0.704969</td>\n",
              "      <td>1.982019</td>\n",
              "      <td>204.0</td>\n",
              "      <td>14.9569</td>\n",
              "      <td>1015.94</td>\n",
              "    </tr>\n",
              "    <tr>\n",
              "      <th>3</th>\n",
              "      <td>Partly Cloudy</td>\n",
              "      <td>rain</td>\n",
              "      <td>8.288889</td>\n",
              "      <td>0.571787</td>\n",
              "      <td>3.755476</td>\n",
              "      <td>269.0</td>\n",
              "      <td>15.8263</td>\n",
              "      <td>1016.41</td>\n",
              "    </tr>\n",
              "    <tr>\n",
              "      <th>4</th>\n",
              "      <td>Mostly Cloudy</td>\n",
              "      <td>rain</td>\n",
              "      <td>8.755556</td>\n",
              "      <td>0.571787</td>\n",
              "      <td>3.323342</td>\n",
              "      <td>259.0</td>\n",
              "      <td>15.8263</td>\n",
              "      <td>1016.51</td>\n",
              "    </tr>\n",
              "  </tbody>\n",
              "</table>\n",
              "</div>"
            ],
            "text/plain": [
              "         Summary Precip Type  ...  Visibility (km)  Pressure (millibars)\n",
              "0  Partly Cloudy        rain  ...          15.8263               1015.13\n",
              "1  Partly Cloudy        rain  ...          15.8263               1015.63\n",
              "2  Mostly Cloudy        rain  ...          14.9569               1015.94\n",
              "3  Partly Cloudy        rain  ...          15.8263               1016.41\n",
              "4  Mostly Cloudy        rain  ...          15.8263               1016.51\n",
              "\n",
              "[5 rows x 8 columns]"
            ]
          },
          "metadata": {
            "tags": []
          },
          "execution_count": 304
        }
      ]
    },
    {
      "cell_type": "code",
      "metadata": {
        "colab": {
          "base_uri": "https://localhost:8080/"
        },
        "id": "y1qIXuU-efeL",
        "outputId": "f7fb2684-b8ea-4088-96a4-6ba8af0fe123"
      },
      "source": [
        "X.nunique()"
      ],
      "execution_count": null,
      "outputs": [
        {
          "output_type": "execute_result",
          "data": {
            "text/plain": [
              "Summary                     27\n",
              "Precip Type                  2\n",
              "Temperature (C)           7569\n",
              "Humidity                    90\n",
              "Wind Speed (km/h)         2472\n",
              "Wind Bearing (degrees)     360\n",
              "Visibility (km)            949\n",
              "Pressure (millibars)      4970\n",
              "dtype: int64"
            ]
          },
          "metadata": {
            "tags": []
          },
          "execution_count": 305
        }
      ]
    },
    {
      "cell_type": "code",
      "metadata": {
        "colab": {
          "base_uri": "https://localhost:8080/"
        },
        "id": "y2LaC7UbeywO",
        "outputId": "a44aa4de-f11d-4aaf-eb41-ed3cb3c09b73"
      },
      "source": [
        "X.dtypes"
      ],
      "execution_count": null,
      "outputs": [
        {
          "output_type": "execute_result",
          "data": {
            "text/plain": [
              "Summary                    object\n",
              "Precip Type                object\n",
              "Temperature (C)           float64\n",
              "Humidity                  float64\n",
              "Wind Speed (km/h)         float64\n",
              "Wind Bearing (degrees)    float64\n",
              "Visibility (km)           float64\n",
              "Pressure (millibars)      float64\n",
              "dtype: object"
            ]
          },
          "metadata": {
            "tags": []
          },
          "execution_count": 306
        }
      ]
    },
    {
      "cell_type": "code",
      "metadata": {
        "colab": {
          "base_uri": "https://localhost:8080/"
        },
        "id": "Oz1M6T4Le23n",
        "outputId": "fb590b8b-53e7-4ee2-9467-720b3357d72f"
      },
      "source": [
        "X['Summary'].value_counts()"
      ],
      "execution_count": null,
      "outputs": [
        {
          "output_type": "execute_result",
          "data": {
            "text/plain": [
              "Partly Cloudy                          31506\n",
              "Mostly Cloudy                          27780\n",
              "Overcast                               16361\n",
              "Clear                                  10018\n",
              "Foggy                                   7019\n",
              "Breezy and Overcast                      525\n",
              "Breezy and Mostly Cloudy                 511\n",
              "Breezy and Partly Cloudy                 379\n",
              "Dry and Partly Cloudy                     86\n",
              "Light Rain                                63\n",
              "Windy and Partly Cloudy                   63\n",
              "Windy and Overcast                        45\n",
              "Humid and Mostly Cloudy                   40\n",
              "Drizzle                                   39\n",
              "Breezy and Foggy                          35\n",
              "Dry                                       34\n",
              "Windy and Mostly Cloudy                   34\n",
              "Breezy                                    30\n",
              "Humid and Partly Cloudy                   17\n",
              "Dry and Mostly Cloudy                     14\n",
              "Rain                                      10\n",
              "Humid and Overcast                         7\n",
              "Windy and Foggy                            4\n",
              "Breezy and Dry                             1\n",
              "Dangerously Windy and Partly Cloudy        1\n",
              "Windy                                      1\n",
              "Windy and Dry                              1\n",
              "Name: Summary, dtype: int64"
            ]
          },
          "metadata": {
            "tags": []
          },
          "execution_count": 307
        }
      ]
    },
    {
      "cell_type": "code",
      "metadata": {
        "colab": {
          "base_uri": "https://localhost:8080/"
        },
        "id": "Kci3sSsse7l3",
        "outputId": "b94168ab-34af-40b8-e8f8-d9d33434d0b6"
      },
      "source": [
        "X['Precip Type'].value_counts()"
      ],
      "execution_count": null,
      "outputs": [
        {
          "output_type": "execute_result",
          "data": {
            "text/plain": [
              "rain    84092\n",
              "snow    10532\n",
              "Name: Precip Type, dtype: int64"
            ]
          },
          "metadata": {
            "tags": []
          },
          "execution_count": 308
        }
      ]
    },
    {
      "cell_type": "code",
      "metadata": {
        "id": "CcynE9xahKKx"
      },
      "source": [
        "# creating instance of one-hot-encoder\n",
        "enc = OneHotEncoder(handle_unknown='ignore')\n",
        "\n",
        "# fit the data\n",
        "enc.fit(X[['Summary']])\n",
        "cols = enc.get_feature_names()\n",
        "enc_df = pd.DataFrame(enc.transform(X[['Summary']]).toarray(),columns=cols)\n",
        "\n",
        "X = X.join(enc_df)"
      ],
      "execution_count": null,
      "outputs": []
    },
    {
      "cell_type": "code",
      "metadata": {
        "colab": {
          "base_uri": "https://localhost:8080/",
          "height": 361
        },
        "id": "Ai_C5aXKhsOE",
        "outputId": "a89a9773-54c5-43f3-ec31-97fb6883726d"
      },
      "source": [
        "X.head()"
      ],
      "execution_count": null,
      "outputs": [
        {
          "output_type": "execute_result",
          "data": {
            "text/html": [
              "<div>\n",
              "<style scoped>\n",
              "    .dataframe tbody tr th:only-of-type {\n",
              "        vertical-align: middle;\n",
              "    }\n",
              "\n",
              "    .dataframe tbody tr th {\n",
              "        vertical-align: top;\n",
              "    }\n",
              "\n",
              "    .dataframe thead th {\n",
              "        text-align: right;\n",
              "    }\n",
              "</style>\n",
              "<table border=\"1\" class=\"dataframe\">\n",
              "  <thead>\n",
              "    <tr style=\"text-align: right;\">\n",
              "      <th></th>\n",
              "      <th>Summary</th>\n",
              "      <th>Precip Type</th>\n",
              "      <th>Temperature (C)</th>\n",
              "      <th>Humidity</th>\n",
              "      <th>Wind Speed (km/h)</th>\n",
              "      <th>Wind Bearing (degrees)</th>\n",
              "      <th>Visibility (km)</th>\n",
              "      <th>Pressure (millibars)</th>\n",
              "      <th>x0_Breezy</th>\n",
              "      <th>x0_Breezy and Dry</th>\n",
              "      <th>x0_Breezy and Foggy</th>\n",
              "      <th>x0_Breezy and Mostly Cloudy</th>\n",
              "      <th>x0_Breezy and Overcast</th>\n",
              "      <th>x0_Breezy and Partly Cloudy</th>\n",
              "      <th>x0_Clear</th>\n",
              "      <th>x0_Dangerously Windy and Partly Cloudy</th>\n",
              "      <th>x0_Drizzle</th>\n",
              "      <th>x0_Dry</th>\n",
              "      <th>x0_Dry and Mostly Cloudy</th>\n",
              "      <th>x0_Dry and Partly Cloudy</th>\n",
              "      <th>x0_Foggy</th>\n",
              "      <th>x0_Humid and Mostly Cloudy</th>\n",
              "      <th>x0_Humid and Overcast</th>\n",
              "      <th>x0_Humid and Partly Cloudy</th>\n",
              "      <th>x0_Light Rain</th>\n",
              "      <th>x0_Mostly Cloudy</th>\n",
              "      <th>x0_Overcast</th>\n",
              "      <th>x0_Partly Cloudy</th>\n",
              "      <th>x0_Rain</th>\n",
              "      <th>x0_Windy</th>\n",
              "      <th>x0_Windy and Dry</th>\n",
              "      <th>x0_Windy and Foggy</th>\n",
              "      <th>x0_Windy and Mostly Cloudy</th>\n",
              "      <th>x0_Windy and Overcast</th>\n",
              "      <th>x0_Windy and Partly Cloudy</th>\n",
              "    </tr>\n",
              "  </thead>\n",
              "  <tbody>\n",
              "    <tr>\n",
              "      <th>0</th>\n",
              "      <td>Partly Cloudy</td>\n",
              "      <td>rain</td>\n",
              "      <td>9.472222</td>\n",
              "      <td>0.704969</td>\n",
              "      <td>3.757619</td>\n",
              "      <td>251.0</td>\n",
              "      <td>15.8263</td>\n",
              "      <td>1015.13</td>\n",
              "      <td>0.0</td>\n",
              "      <td>0.0</td>\n",
              "      <td>0.0</td>\n",
              "      <td>0.0</td>\n",
              "      <td>0.0</td>\n",
              "      <td>0.0</td>\n",
              "      <td>0.0</td>\n",
              "      <td>0.0</td>\n",
              "      <td>0.0</td>\n",
              "      <td>0.0</td>\n",
              "      <td>0.0</td>\n",
              "      <td>0.0</td>\n",
              "      <td>0.0</td>\n",
              "      <td>0.0</td>\n",
              "      <td>0.0</td>\n",
              "      <td>0.0</td>\n",
              "      <td>0.0</td>\n",
              "      <td>0.0</td>\n",
              "      <td>0.0</td>\n",
              "      <td>1.0</td>\n",
              "      <td>0.0</td>\n",
              "      <td>0.0</td>\n",
              "      <td>0.0</td>\n",
              "      <td>0.0</td>\n",
              "      <td>0.0</td>\n",
              "      <td>0.0</td>\n",
              "      <td>0.0</td>\n",
              "    </tr>\n",
              "    <tr>\n",
              "      <th>1</th>\n",
              "      <td>Partly Cloudy</td>\n",
              "      <td>rain</td>\n",
              "      <td>9.355556</td>\n",
              "      <td>0.636056</td>\n",
              "      <td>3.776851</td>\n",
              "      <td>259.0</td>\n",
              "      <td>15.8263</td>\n",
              "      <td>1015.63</td>\n",
              "      <td>0.0</td>\n",
              "      <td>0.0</td>\n",
              "      <td>0.0</td>\n",
              "      <td>0.0</td>\n",
              "      <td>0.0</td>\n",
              "      <td>0.0</td>\n",
              "      <td>0.0</td>\n",
              "      <td>0.0</td>\n",
              "      <td>0.0</td>\n",
              "      <td>0.0</td>\n",
              "      <td>0.0</td>\n",
              "      <td>0.0</td>\n",
              "      <td>0.0</td>\n",
              "      <td>0.0</td>\n",
              "      <td>0.0</td>\n",
              "      <td>0.0</td>\n",
              "      <td>0.0</td>\n",
              "      <td>0.0</td>\n",
              "      <td>0.0</td>\n",
              "      <td>1.0</td>\n",
              "      <td>0.0</td>\n",
              "      <td>0.0</td>\n",
              "      <td>0.0</td>\n",
              "      <td>0.0</td>\n",
              "      <td>0.0</td>\n",
              "      <td>0.0</td>\n",
              "      <td>0.0</td>\n",
              "    </tr>\n",
              "    <tr>\n",
              "      <th>2</th>\n",
              "      <td>Mostly Cloudy</td>\n",
              "      <td>rain</td>\n",
              "      <td>9.377778</td>\n",
              "      <td>0.704969</td>\n",
              "      <td>1.982019</td>\n",
              "      <td>204.0</td>\n",
              "      <td>14.9569</td>\n",
              "      <td>1015.94</td>\n",
              "      <td>0.0</td>\n",
              "      <td>0.0</td>\n",
              "      <td>0.0</td>\n",
              "      <td>0.0</td>\n",
              "      <td>0.0</td>\n",
              "      <td>0.0</td>\n",
              "      <td>0.0</td>\n",
              "      <td>0.0</td>\n",
              "      <td>0.0</td>\n",
              "      <td>0.0</td>\n",
              "      <td>0.0</td>\n",
              "      <td>0.0</td>\n",
              "      <td>0.0</td>\n",
              "      <td>0.0</td>\n",
              "      <td>0.0</td>\n",
              "      <td>0.0</td>\n",
              "      <td>0.0</td>\n",
              "      <td>1.0</td>\n",
              "      <td>0.0</td>\n",
              "      <td>0.0</td>\n",
              "      <td>0.0</td>\n",
              "      <td>0.0</td>\n",
              "      <td>0.0</td>\n",
              "      <td>0.0</td>\n",
              "      <td>0.0</td>\n",
              "      <td>0.0</td>\n",
              "      <td>0.0</td>\n",
              "    </tr>\n",
              "    <tr>\n",
              "      <th>3</th>\n",
              "      <td>Partly Cloudy</td>\n",
              "      <td>rain</td>\n",
              "      <td>8.288889</td>\n",
              "      <td>0.571787</td>\n",
              "      <td>3.755476</td>\n",
              "      <td>269.0</td>\n",
              "      <td>15.8263</td>\n",
              "      <td>1016.41</td>\n",
              "      <td>0.0</td>\n",
              "      <td>0.0</td>\n",
              "      <td>0.0</td>\n",
              "      <td>0.0</td>\n",
              "      <td>0.0</td>\n",
              "      <td>0.0</td>\n",
              "      <td>0.0</td>\n",
              "      <td>0.0</td>\n",
              "      <td>0.0</td>\n",
              "      <td>0.0</td>\n",
              "      <td>0.0</td>\n",
              "      <td>0.0</td>\n",
              "      <td>0.0</td>\n",
              "      <td>0.0</td>\n",
              "      <td>0.0</td>\n",
              "      <td>0.0</td>\n",
              "      <td>0.0</td>\n",
              "      <td>0.0</td>\n",
              "      <td>0.0</td>\n",
              "      <td>1.0</td>\n",
              "      <td>0.0</td>\n",
              "      <td>0.0</td>\n",
              "      <td>0.0</td>\n",
              "      <td>0.0</td>\n",
              "      <td>0.0</td>\n",
              "      <td>0.0</td>\n",
              "      <td>0.0</td>\n",
              "    </tr>\n",
              "    <tr>\n",
              "      <th>4</th>\n",
              "      <td>Mostly Cloudy</td>\n",
              "      <td>rain</td>\n",
              "      <td>8.755556</td>\n",
              "      <td>0.571787</td>\n",
              "      <td>3.323342</td>\n",
              "      <td>259.0</td>\n",
              "      <td>15.8263</td>\n",
              "      <td>1016.51</td>\n",
              "      <td>0.0</td>\n",
              "      <td>0.0</td>\n",
              "      <td>0.0</td>\n",
              "      <td>0.0</td>\n",
              "      <td>0.0</td>\n",
              "      <td>0.0</td>\n",
              "      <td>0.0</td>\n",
              "      <td>0.0</td>\n",
              "      <td>0.0</td>\n",
              "      <td>0.0</td>\n",
              "      <td>0.0</td>\n",
              "      <td>0.0</td>\n",
              "      <td>0.0</td>\n",
              "      <td>0.0</td>\n",
              "      <td>0.0</td>\n",
              "      <td>0.0</td>\n",
              "      <td>0.0</td>\n",
              "      <td>1.0</td>\n",
              "      <td>0.0</td>\n",
              "      <td>0.0</td>\n",
              "      <td>0.0</td>\n",
              "      <td>0.0</td>\n",
              "      <td>0.0</td>\n",
              "      <td>0.0</td>\n",
              "      <td>0.0</td>\n",
              "      <td>0.0</td>\n",
              "      <td>0.0</td>\n",
              "    </tr>\n",
              "  </tbody>\n",
              "</table>\n",
              "</div>"
            ],
            "text/plain": [
              "         Summary Precip Type  ...  x0_Windy and Overcast  x0_Windy and Partly Cloudy\n",
              "0  Partly Cloudy        rain  ...                    0.0                         0.0\n",
              "1  Partly Cloudy        rain  ...                    0.0                         0.0\n",
              "2  Mostly Cloudy        rain  ...                    0.0                         0.0\n",
              "3  Partly Cloudy        rain  ...                    0.0                         0.0\n",
              "4  Mostly Cloudy        rain  ...                    0.0                         0.0\n",
              "\n",
              "[5 rows x 35 columns]"
            ]
          },
          "metadata": {
            "tags": []
          },
          "execution_count": 310
        }
      ]
    },
    {
      "cell_type": "code",
      "metadata": {
        "colab": {
          "base_uri": "https://localhost:8080/"
        },
        "id": "8Bcz9Dw6iDo5",
        "outputId": "0697cce2-b691-4d04-9d02-d1b591c6eb28"
      },
      "source": [
        "#Convert to categorical type, then assign categorical codes to the attributes\n",
        "X['Precip Type'] = X['Precip Type'].astype('category').cat.codes\n",
        "X.dtypes"
      ],
      "execution_count": null,
      "outputs": [
        {
          "output_type": "execute_result",
          "data": {
            "text/plain": [
              "Summary                                    object\n",
              "Precip Type                                  int8\n",
              "Temperature (C)                           float64\n",
              "Humidity                                  float64\n",
              "Wind Speed (km/h)                         float64\n",
              "Wind Bearing (degrees)                    float64\n",
              "Visibility (km)                           float64\n",
              "Pressure (millibars)                      float64\n",
              "x0_Breezy                                 float64\n",
              "x0_Breezy and Dry                         float64\n",
              "x0_Breezy and Foggy                       float64\n",
              "x0_Breezy and Mostly Cloudy               float64\n",
              "x0_Breezy and Overcast                    float64\n",
              "x0_Breezy and Partly Cloudy               float64\n",
              "x0_Clear                                  float64\n",
              "x0_Dangerously Windy and Partly Cloudy    float64\n",
              "x0_Drizzle                                float64\n",
              "x0_Dry                                    float64\n",
              "x0_Dry and Mostly Cloudy                  float64\n",
              "x0_Dry and Partly Cloudy                  float64\n",
              "x0_Foggy                                  float64\n",
              "x0_Humid and Mostly Cloudy                float64\n",
              "x0_Humid and Overcast                     float64\n",
              "x0_Humid and Partly Cloudy                float64\n",
              "x0_Light Rain                             float64\n",
              "x0_Mostly Cloudy                          float64\n",
              "x0_Overcast                               float64\n",
              "x0_Partly Cloudy                          float64\n",
              "x0_Rain                                   float64\n",
              "x0_Windy                                  float64\n",
              "x0_Windy and Dry                          float64\n",
              "x0_Windy and Foggy                        float64\n",
              "x0_Windy and Mostly Cloudy                float64\n",
              "x0_Windy and Overcast                     float64\n",
              "x0_Windy and Partly Cloudy                float64\n",
              "dtype: object"
            ]
          },
          "metadata": {
            "tags": []
          },
          "execution_count": 39
        }
      ]
    },
    {
      "cell_type": "code",
      "metadata": {
        "colab": {
          "base_uri": "https://localhost:8080/",
          "height": 274
        },
        "id": "jM5RIyPSu7Lh",
        "outputId": "a7852d51-03e5-496c-cd4f-1d8fb8bff3f4"
      },
      "source": [
        "# drop summary column\n",
        "X = X.drop(columns='Summary', axis=1)\n",
        "X.head()"
      ],
      "execution_count": null,
      "outputs": [
        {
          "output_type": "execute_result",
          "data": {
            "text/html": [
              "<div>\n",
              "<style scoped>\n",
              "    .dataframe tbody tr th:only-of-type {\n",
              "        vertical-align: middle;\n",
              "    }\n",
              "\n",
              "    .dataframe tbody tr th {\n",
              "        vertical-align: top;\n",
              "    }\n",
              "\n",
              "    .dataframe thead th {\n",
              "        text-align: right;\n",
              "    }\n",
              "</style>\n",
              "<table border=\"1\" class=\"dataframe\">\n",
              "  <thead>\n",
              "    <tr style=\"text-align: right;\">\n",
              "      <th></th>\n",
              "      <th>Precip Type</th>\n",
              "      <th>Temperature (C)</th>\n",
              "      <th>Humidity</th>\n",
              "      <th>Wind Speed (km/h)</th>\n",
              "      <th>Wind Bearing (degrees)</th>\n",
              "      <th>Visibility (km)</th>\n",
              "      <th>Pressure (millibars)</th>\n",
              "      <th>x0_Breezy</th>\n",
              "      <th>x0_Breezy and Dry</th>\n",
              "      <th>x0_Breezy and Foggy</th>\n",
              "      <th>x0_Breezy and Mostly Cloudy</th>\n",
              "      <th>x0_Breezy and Overcast</th>\n",
              "      <th>x0_Breezy and Partly Cloudy</th>\n",
              "      <th>x0_Clear</th>\n",
              "      <th>x0_Dangerously Windy and Partly Cloudy</th>\n",
              "      <th>x0_Drizzle</th>\n",
              "      <th>x0_Dry</th>\n",
              "      <th>x0_Dry and Mostly Cloudy</th>\n",
              "      <th>x0_Dry and Partly Cloudy</th>\n",
              "      <th>x0_Foggy</th>\n",
              "      <th>x0_Humid and Mostly Cloudy</th>\n",
              "      <th>x0_Humid and Overcast</th>\n",
              "      <th>x0_Humid and Partly Cloudy</th>\n",
              "      <th>x0_Light Rain</th>\n",
              "      <th>x0_Mostly Cloudy</th>\n",
              "      <th>x0_Overcast</th>\n",
              "      <th>x0_Partly Cloudy</th>\n",
              "      <th>x0_Rain</th>\n",
              "      <th>x0_Windy</th>\n",
              "      <th>x0_Windy and Dry</th>\n",
              "      <th>x0_Windy and Foggy</th>\n",
              "      <th>x0_Windy and Mostly Cloudy</th>\n",
              "      <th>x0_Windy and Overcast</th>\n",
              "      <th>x0_Windy and Partly Cloudy</th>\n",
              "    </tr>\n",
              "  </thead>\n",
              "  <tbody>\n",
              "    <tr>\n",
              "      <th>0</th>\n",
              "      <td>0</td>\n",
              "      <td>9.472222</td>\n",
              "      <td>0.704969</td>\n",
              "      <td>3.757619</td>\n",
              "      <td>251.0</td>\n",
              "      <td>15.8263</td>\n",
              "      <td>1015.13</td>\n",
              "      <td>0.0</td>\n",
              "      <td>0.0</td>\n",
              "      <td>0.0</td>\n",
              "      <td>0.0</td>\n",
              "      <td>0.0</td>\n",
              "      <td>0.0</td>\n",
              "      <td>0.0</td>\n",
              "      <td>0.0</td>\n",
              "      <td>0.0</td>\n",
              "      <td>0.0</td>\n",
              "      <td>0.0</td>\n",
              "      <td>0.0</td>\n",
              "      <td>0.0</td>\n",
              "      <td>0.0</td>\n",
              "      <td>0.0</td>\n",
              "      <td>0.0</td>\n",
              "      <td>0.0</td>\n",
              "      <td>0.0</td>\n",
              "      <td>0.0</td>\n",
              "      <td>1.0</td>\n",
              "      <td>0.0</td>\n",
              "      <td>0.0</td>\n",
              "      <td>0.0</td>\n",
              "      <td>0.0</td>\n",
              "      <td>0.0</td>\n",
              "      <td>0.0</td>\n",
              "      <td>0.0</td>\n",
              "    </tr>\n",
              "    <tr>\n",
              "      <th>1</th>\n",
              "      <td>0</td>\n",
              "      <td>9.355556</td>\n",
              "      <td>0.636056</td>\n",
              "      <td>3.776851</td>\n",
              "      <td>259.0</td>\n",
              "      <td>15.8263</td>\n",
              "      <td>1015.63</td>\n",
              "      <td>0.0</td>\n",
              "      <td>0.0</td>\n",
              "      <td>0.0</td>\n",
              "      <td>0.0</td>\n",
              "      <td>0.0</td>\n",
              "      <td>0.0</td>\n",
              "      <td>0.0</td>\n",
              "      <td>0.0</td>\n",
              "      <td>0.0</td>\n",
              "      <td>0.0</td>\n",
              "      <td>0.0</td>\n",
              "      <td>0.0</td>\n",
              "      <td>0.0</td>\n",
              "      <td>0.0</td>\n",
              "      <td>0.0</td>\n",
              "      <td>0.0</td>\n",
              "      <td>0.0</td>\n",
              "      <td>0.0</td>\n",
              "      <td>0.0</td>\n",
              "      <td>1.0</td>\n",
              "      <td>0.0</td>\n",
              "      <td>0.0</td>\n",
              "      <td>0.0</td>\n",
              "      <td>0.0</td>\n",
              "      <td>0.0</td>\n",
              "      <td>0.0</td>\n",
              "      <td>0.0</td>\n",
              "    </tr>\n",
              "    <tr>\n",
              "      <th>2</th>\n",
              "      <td>0</td>\n",
              "      <td>9.377778</td>\n",
              "      <td>0.704969</td>\n",
              "      <td>1.982019</td>\n",
              "      <td>204.0</td>\n",
              "      <td>14.9569</td>\n",
              "      <td>1015.94</td>\n",
              "      <td>0.0</td>\n",
              "      <td>0.0</td>\n",
              "      <td>0.0</td>\n",
              "      <td>0.0</td>\n",
              "      <td>0.0</td>\n",
              "      <td>0.0</td>\n",
              "      <td>0.0</td>\n",
              "      <td>0.0</td>\n",
              "      <td>0.0</td>\n",
              "      <td>0.0</td>\n",
              "      <td>0.0</td>\n",
              "      <td>0.0</td>\n",
              "      <td>0.0</td>\n",
              "      <td>0.0</td>\n",
              "      <td>0.0</td>\n",
              "      <td>0.0</td>\n",
              "      <td>0.0</td>\n",
              "      <td>1.0</td>\n",
              "      <td>0.0</td>\n",
              "      <td>0.0</td>\n",
              "      <td>0.0</td>\n",
              "      <td>0.0</td>\n",
              "      <td>0.0</td>\n",
              "      <td>0.0</td>\n",
              "      <td>0.0</td>\n",
              "      <td>0.0</td>\n",
              "      <td>0.0</td>\n",
              "    </tr>\n",
              "    <tr>\n",
              "      <th>3</th>\n",
              "      <td>0</td>\n",
              "      <td>8.288889</td>\n",
              "      <td>0.571787</td>\n",
              "      <td>3.755476</td>\n",
              "      <td>269.0</td>\n",
              "      <td>15.8263</td>\n",
              "      <td>1016.41</td>\n",
              "      <td>0.0</td>\n",
              "      <td>0.0</td>\n",
              "      <td>0.0</td>\n",
              "      <td>0.0</td>\n",
              "      <td>0.0</td>\n",
              "      <td>0.0</td>\n",
              "      <td>0.0</td>\n",
              "      <td>0.0</td>\n",
              "      <td>0.0</td>\n",
              "      <td>0.0</td>\n",
              "      <td>0.0</td>\n",
              "      <td>0.0</td>\n",
              "      <td>0.0</td>\n",
              "      <td>0.0</td>\n",
              "      <td>0.0</td>\n",
              "      <td>0.0</td>\n",
              "      <td>0.0</td>\n",
              "      <td>0.0</td>\n",
              "      <td>0.0</td>\n",
              "      <td>1.0</td>\n",
              "      <td>0.0</td>\n",
              "      <td>0.0</td>\n",
              "      <td>0.0</td>\n",
              "      <td>0.0</td>\n",
              "      <td>0.0</td>\n",
              "      <td>0.0</td>\n",
              "      <td>0.0</td>\n",
              "    </tr>\n",
              "    <tr>\n",
              "      <th>4</th>\n",
              "      <td>0</td>\n",
              "      <td>8.755556</td>\n",
              "      <td>0.571787</td>\n",
              "      <td>3.323342</td>\n",
              "      <td>259.0</td>\n",
              "      <td>15.8263</td>\n",
              "      <td>1016.51</td>\n",
              "      <td>0.0</td>\n",
              "      <td>0.0</td>\n",
              "      <td>0.0</td>\n",
              "      <td>0.0</td>\n",
              "      <td>0.0</td>\n",
              "      <td>0.0</td>\n",
              "      <td>0.0</td>\n",
              "      <td>0.0</td>\n",
              "      <td>0.0</td>\n",
              "      <td>0.0</td>\n",
              "      <td>0.0</td>\n",
              "      <td>0.0</td>\n",
              "      <td>0.0</td>\n",
              "      <td>0.0</td>\n",
              "      <td>0.0</td>\n",
              "      <td>0.0</td>\n",
              "      <td>0.0</td>\n",
              "      <td>1.0</td>\n",
              "      <td>0.0</td>\n",
              "      <td>0.0</td>\n",
              "      <td>0.0</td>\n",
              "      <td>0.0</td>\n",
              "      <td>0.0</td>\n",
              "      <td>0.0</td>\n",
              "      <td>0.0</td>\n",
              "      <td>0.0</td>\n",
              "      <td>0.0</td>\n",
              "    </tr>\n",
              "  </tbody>\n",
              "</table>\n",
              "</div>"
            ],
            "text/plain": [
              "   Precip Type  ...  x0_Windy and Partly Cloudy\n",
              "0            0  ...                         0.0\n",
              "1            0  ...                         0.0\n",
              "2            0  ...                         0.0\n",
              "3            0  ...                         0.0\n",
              "4            0  ...                         0.0\n",
              "\n",
              "[5 rows x 34 columns]"
            ]
          },
          "metadata": {
            "tags": []
          },
          "execution_count": 40
        }
      ]
    },
    {
      "cell_type": "code",
      "metadata": {
        "colab": {
          "base_uri": "https://localhost:8080/"
        },
        "id": "peH33ZNMiWt-",
        "outputId": "e46599c3-16b6-49e0-a7a4-1c11d822ef40"
      },
      "source": [
        "X['Precip Type'].value_counts()"
      ],
      "execution_count": null,
      "outputs": [
        {
          "output_type": "execute_result",
          "data": {
            "text/plain": [
              "0    84092\n",
              "1    10532\n",
              "Name: Precip Type, dtype: int64"
            ]
          },
          "metadata": {
            "tags": []
          },
          "execution_count": 41
        }
      ]
    },
    {
      "cell_type": "code",
      "metadata": {
        "colab": {
          "base_uri": "https://localhost:8080/"
        },
        "id": "GgOlHGRLidM0",
        "outputId": "e4427d81-60db-4c3f-8bc0-333150845884"
      },
      "source": [
        "#Removing Categorical Features before the standardization\n",
        "columns_value_new = ['Temperature (C)', 'Humidity','Wind Speed (km/h)', 'Visibility (km)', 'Pressure (millibars)']\n",
        "columns_value_new"
      ],
      "execution_count": null,
      "outputs": [
        {
          "output_type": "execute_result",
          "data": {
            "text/plain": [
              "['Temperature (C)',\n",
              " 'Humidity',\n",
              " 'Wind Speed (km/h)',\n",
              " 'Visibility (km)',\n",
              " 'Pressure (millibars)']"
            ]
          },
          "metadata": {
            "tags": []
          },
          "execution_count": 42
        }
      ]
    },
    {
      "cell_type": "code",
      "metadata": {
        "colab": {
          "base_uri": "https://localhost:8080/",
          "height": 274
        },
        "id": "_KLR5Dlaiogz",
        "outputId": "f1666fa6-8fb6-4cd0-afd9-e6a7681137a8"
      },
      "source": [
        "#Applying Standardization \n",
        "#step 1 - Calling the standard scaler\n",
        "scaler = StandardScaler() \n",
        "\n",
        "#Transformation of other features\n",
        "scaler.fit(X[columns_value_new])\n",
        "X[columns_value_new] = scaler.transform(X[columns_value_new])\n",
        "\n",
        "X.head()"
      ],
      "execution_count": null,
      "outputs": [
        {
          "output_type": "execute_result",
          "data": {
            "text/html": [
              "<div>\n",
              "<style scoped>\n",
              "    .dataframe tbody tr th:only-of-type {\n",
              "        vertical-align: middle;\n",
              "    }\n",
              "\n",
              "    .dataframe tbody tr th {\n",
              "        vertical-align: top;\n",
              "    }\n",
              "\n",
              "    .dataframe thead th {\n",
              "        text-align: right;\n",
              "    }\n",
              "</style>\n",
              "<table border=\"1\" class=\"dataframe\">\n",
              "  <thead>\n",
              "    <tr style=\"text-align: right;\">\n",
              "      <th></th>\n",
              "      <th>Precip Type</th>\n",
              "      <th>Temperature (C)</th>\n",
              "      <th>Humidity</th>\n",
              "      <th>Wind Speed (km/h)</th>\n",
              "      <th>Wind Bearing (degrees)</th>\n",
              "      <th>Visibility (km)</th>\n",
              "      <th>Pressure (millibars)</th>\n",
              "      <th>x0_Breezy</th>\n",
              "      <th>x0_Breezy and Dry</th>\n",
              "      <th>x0_Breezy and Foggy</th>\n",
              "      <th>x0_Breezy and Mostly Cloudy</th>\n",
              "      <th>x0_Breezy and Overcast</th>\n",
              "      <th>x0_Breezy and Partly Cloudy</th>\n",
              "      <th>x0_Clear</th>\n",
              "      <th>x0_Dangerously Windy and Partly Cloudy</th>\n",
              "      <th>x0_Drizzle</th>\n",
              "      <th>x0_Dry</th>\n",
              "      <th>x0_Dry and Mostly Cloudy</th>\n",
              "      <th>x0_Dry and Partly Cloudy</th>\n",
              "      <th>x0_Foggy</th>\n",
              "      <th>x0_Humid and Mostly Cloudy</th>\n",
              "      <th>x0_Humid and Overcast</th>\n",
              "      <th>x0_Humid and Partly Cloudy</th>\n",
              "      <th>x0_Light Rain</th>\n",
              "      <th>x0_Mostly Cloudy</th>\n",
              "      <th>x0_Overcast</th>\n",
              "      <th>x0_Partly Cloudy</th>\n",
              "      <th>x0_Rain</th>\n",
              "      <th>x0_Windy</th>\n",
              "      <th>x0_Windy and Dry</th>\n",
              "      <th>x0_Windy and Foggy</th>\n",
              "      <th>x0_Windy and Mostly Cloudy</th>\n",
              "      <th>x0_Windy and Overcast</th>\n",
              "      <th>x0_Windy and Partly Cloudy</th>\n",
              "    </tr>\n",
              "  </thead>\n",
              "  <tbody>\n",
              "    <tr>\n",
              "      <th>0</th>\n",
              "      <td>0</td>\n",
              "      <td>-0.259556</td>\n",
              "      <td>0.800614</td>\n",
              "      <td>0.608787</td>\n",
              "      <td>251.0</td>\n",
              "      <td>1.302552</td>\n",
              "      <td>-0.215109</td>\n",
              "      <td>0.0</td>\n",
              "      <td>0.0</td>\n",
              "      <td>0.0</td>\n",
              "      <td>0.0</td>\n",
              "      <td>0.0</td>\n",
              "      <td>0.0</td>\n",
              "      <td>0.0</td>\n",
              "      <td>0.0</td>\n",
              "      <td>0.0</td>\n",
              "      <td>0.0</td>\n",
              "      <td>0.0</td>\n",
              "      <td>0.0</td>\n",
              "      <td>0.0</td>\n",
              "      <td>0.0</td>\n",
              "      <td>0.0</td>\n",
              "      <td>0.0</td>\n",
              "      <td>0.0</td>\n",
              "      <td>0.0</td>\n",
              "      <td>0.0</td>\n",
              "      <td>1.0</td>\n",
              "      <td>0.0</td>\n",
              "      <td>0.0</td>\n",
              "      <td>0.0</td>\n",
              "      <td>0.0</td>\n",
              "      <td>0.0</td>\n",
              "      <td>0.0</td>\n",
              "      <td>0.0</td>\n",
              "    </tr>\n",
              "    <tr>\n",
              "      <th>1</th>\n",
              "      <td>0</td>\n",
              "      <td>-0.271754</td>\n",
              "      <td>0.559556</td>\n",
              "      <td>0.626625</td>\n",
              "      <td>259.0</td>\n",
              "      <td>1.302552</td>\n",
              "      <td>-0.150765</td>\n",
              "      <td>0.0</td>\n",
              "      <td>0.0</td>\n",
              "      <td>0.0</td>\n",
              "      <td>0.0</td>\n",
              "      <td>0.0</td>\n",
              "      <td>0.0</td>\n",
              "      <td>0.0</td>\n",
              "      <td>0.0</td>\n",
              "      <td>0.0</td>\n",
              "      <td>0.0</td>\n",
              "      <td>0.0</td>\n",
              "      <td>0.0</td>\n",
              "      <td>0.0</td>\n",
              "      <td>0.0</td>\n",
              "      <td>0.0</td>\n",
              "      <td>0.0</td>\n",
              "      <td>0.0</td>\n",
              "      <td>0.0</td>\n",
              "      <td>0.0</td>\n",
              "      <td>1.0</td>\n",
              "      <td>0.0</td>\n",
              "      <td>0.0</td>\n",
              "      <td>0.0</td>\n",
              "      <td>0.0</td>\n",
              "      <td>0.0</td>\n",
              "      <td>0.0</td>\n",
              "      <td>0.0</td>\n",
              "    </tr>\n",
              "    <tr>\n",
              "      <th>2</th>\n",
              "      <td>0</td>\n",
              "      <td>-0.269430</td>\n",
              "      <td>0.800614</td>\n",
              "      <td>-1.038143</td>\n",
              "      <td>204.0</td>\n",
              "      <td>1.093963</td>\n",
              "      <td>-0.110872</td>\n",
              "      <td>0.0</td>\n",
              "      <td>0.0</td>\n",
              "      <td>0.0</td>\n",
              "      <td>0.0</td>\n",
              "      <td>0.0</td>\n",
              "      <td>0.0</td>\n",
              "      <td>0.0</td>\n",
              "      <td>0.0</td>\n",
              "      <td>0.0</td>\n",
              "      <td>0.0</td>\n",
              "      <td>0.0</td>\n",
              "      <td>0.0</td>\n",
              "      <td>0.0</td>\n",
              "      <td>0.0</td>\n",
              "      <td>0.0</td>\n",
              "      <td>0.0</td>\n",
              "      <td>0.0</td>\n",
              "      <td>1.0</td>\n",
              "      <td>0.0</td>\n",
              "      <td>0.0</td>\n",
              "      <td>0.0</td>\n",
              "      <td>0.0</td>\n",
              "      <td>0.0</td>\n",
              "      <td>0.0</td>\n",
              "      <td>0.0</td>\n",
              "      <td>0.0</td>\n",
              "      <td>0.0</td>\n",
              "    </tr>\n",
              "    <tr>\n",
              "      <th>3</th>\n",
              "      <td>0</td>\n",
              "      <td>-0.383277</td>\n",
              "      <td>0.334742</td>\n",
              "      <td>0.606800</td>\n",
              "      <td>269.0</td>\n",
              "      <td>1.302552</td>\n",
              "      <td>-0.050389</td>\n",
              "      <td>0.0</td>\n",
              "      <td>0.0</td>\n",
              "      <td>0.0</td>\n",
              "      <td>0.0</td>\n",
              "      <td>0.0</td>\n",
              "      <td>0.0</td>\n",
              "      <td>0.0</td>\n",
              "      <td>0.0</td>\n",
              "      <td>0.0</td>\n",
              "      <td>0.0</td>\n",
              "      <td>0.0</td>\n",
              "      <td>0.0</td>\n",
              "      <td>0.0</td>\n",
              "      <td>0.0</td>\n",
              "      <td>0.0</td>\n",
              "      <td>0.0</td>\n",
              "      <td>0.0</td>\n",
              "      <td>0.0</td>\n",
              "      <td>0.0</td>\n",
              "      <td>1.0</td>\n",
              "      <td>0.0</td>\n",
              "      <td>0.0</td>\n",
              "      <td>0.0</td>\n",
              "      <td>0.0</td>\n",
              "      <td>0.0</td>\n",
              "      <td>0.0</td>\n",
              "      <td>0.0</td>\n",
              "    </tr>\n",
              "    <tr>\n",
              "      <th>4</th>\n",
              "      <td>0</td>\n",
              "      <td>-0.334486</td>\n",
              "      <td>0.334742</td>\n",
              "      <td>0.205980</td>\n",
              "      <td>259.0</td>\n",
              "      <td>1.302552</td>\n",
              "      <td>-0.037521</td>\n",
              "      <td>0.0</td>\n",
              "      <td>0.0</td>\n",
              "      <td>0.0</td>\n",
              "      <td>0.0</td>\n",
              "      <td>0.0</td>\n",
              "      <td>0.0</td>\n",
              "      <td>0.0</td>\n",
              "      <td>0.0</td>\n",
              "      <td>0.0</td>\n",
              "      <td>0.0</td>\n",
              "      <td>0.0</td>\n",
              "      <td>0.0</td>\n",
              "      <td>0.0</td>\n",
              "      <td>0.0</td>\n",
              "      <td>0.0</td>\n",
              "      <td>0.0</td>\n",
              "      <td>0.0</td>\n",
              "      <td>1.0</td>\n",
              "      <td>0.0</td>\n",
              "      <td>0.0</td>\n",
              "      <td>0.0</td>\n",
              "      <td>0.0</td>\n",
              "      <td>0.0</td>\n",
              "      <td>0.0</td>\n",
              "      <td>0.0</td>\n",
              "      <td>0.0</td>\n",
              "      <td>0.0</td>\n",
              "    </tr>\n",
              "  </tbody>\n",
              "</table>\n",
              "</div>"
            ],
            "text/plain": [
              "   Precip Type  ...  x0_Windy and Partly Cloudy\n",
              "0            0  ...                         0.0\n",
              "1            0  ...                         0.0\n",
              "2            0  ...                         0.0\n",
              "3            0  ...                         0.0\n",
              "4            0  ...                         0.0\n",
              "\n",
              "[5 rows x 34 columns]"
            ]
          },
          "metadata": {
            "tags": []
          },
          "execution_count": 43
        }
      ]
    },
    {
      "cell_type": "code",
      "metadata": {
        "colab": {
          "base_uri": "https://localhost:8080/",
          "height": 405
        },
        "id": "AXywnxf1jK1O",
        "outputId": "17798096-1e34-4c40-965c-f4ed9e7adb21"
      },
      "source": [
        "X[columns_value_new].hist()"
      ],
      "execution_count": null,
      "outputs": [
        {
          "output_type": "execute_result",
          "data": {
            "text/plain": [
              "array([[<matplotlib.axes._subplots.AxesSubplot object at 0x7f86c6f3b690>,\n",
              "        <matplotlib.axes._subplots.AxesSubplot object at 0x7f86c6f13550>],\n",
              "       [<matplotlib.axes._subplots.AxesSubplot object at 0x7f86c6045d10>,\n",
              "        <matplotlib.axes._subplots.AxesSubplot object at 0x7f86c6ec8550>],\n",
              "       [<matplotlib.axes._subplots.AxesSubplot object at 0x7f86c6e7f6d0>,\n",
              "        <matplotlib.axes._subplots.AxesSubplot object at 0x7f86c6e32c50>]],\n",
              "      dtype=object)"
            ]
          },
          "metadata": {
            "tags": []
          },
          "execution_count": 44
        },
        {
          "output_type": "display_data",
          "data": {
            "image/png": "[encoded data removed]",
            "text/plain": [
              "<Figure size 432x288 with 6 Axes>"
            ]
          },
          "metadata": {
            "tags": [],
            "needs_background": "light"
          }
        }
      ]
    },
    {
      "cell_type": "code",
      "metadata": {
        "colab": {
          "base_uri": "https://localhost:8080/",
          "height": 265
        },
        "id": "kjHeqk5Jjtjz",
        "outputId": "9478748d-6adb-47d5-d2f7-6e6bf1d099a7"
      },
      "source": [
        "# Histogram - Temperature (C)\n",
        "X['Temperature (C)'].hist();"
      ],
      "execution_count": null,
      "outputs": [
        {
          "output_type": "display_data",
          "data": {
            "image/png": "[encoded data removed]",
            "text/plain": [
              "<Figure size 432x288 with 1 Axes>"
            ]
          },
          "metadata": {
            "tags": [],
            "needs_background": "light"
          }
        }
      ]
    },
    {
      "cell_type": "code",
      "metadata": {
        "colab": {
          "base_uri": "https://localhost:8080/",
          "height": 265
        },
        "id": "cT3W5Z9rjw-I",
        "outputId": "d1b8ee6b-27f5-486e-9faf-5eed07d0b1e0"
      },
      "source": [
        "# Histogram - Humidity\n",
        "X['Humidity'].hist();"
      ],
      "execution_count": null,
      "outputs": [
        {
          "output_type": "display_data",
          "data": {
            "image/png": "[encoded data removed]",
            "text/plain": [
              "<Figure size 432x288 with 1 Axes>"
            ]
          },
          "metadata": {
            "tags": [],
            "needs_background": "light"
          }
        }
      ]
    },
    {
      "cell_type": "code",
      "metadata": {
        "colab": {
          "base_uri": "https://localhost:8080/",
          "height": 265
        },
        "id": "y65nvibnj05I",
        "outputId": "4a373179-4aff-4040-c1dd-fbc6dd47b3be"
      },
      "source": [
        "# Histogram - Wind Speed (km/h)\n",
        "X['Wind Speed (km/h)'].hist();"
      ],
      "execution_count": null,
      "outputs": [
        {
          "output_type": "display_data",
          "data": {
            "image/png": "[encoded data removed]",
            "text/plain": [
              "<Figure size 432x288 with 1 Axes>"
            ]
          },
          "metadata": {
            "tags": [],
            "needs_background": "light"
          }
        }
      ]
    },
    {
      "cell_type": "code",
      "metadata": {
        "colab": {
          "base_uri": "https://localhost:8080/",
          "height": 266
        },
        "id": "YphM_i5Cj5R1",
        "outputId": "24f81449-487b-4eee-c39e-54313b2810f1"
      },
      "source": [
        "# Histogram - Visibility (km)\n",
        "X['Visibility (km)'].hist();"
      ],
      "execution_count": null,
      "outputs": [
        {
          "output_type": "display_data",
          "data": {
            "image/png": "[encoded data removed]",
            "text/plain": [
              "<Figure size 432x288 with 1 Axes>"
            ]
          },
          "metadata": {
            "tags": [],
            "needs_background": "light"
          }
        }
      ]
    },
    {
      "cell_type": "code",
      "metadata": {
        "colab": {
          "base_uri": "https://localhost:8080/",
          "height": 265
        },
        "id": "_OnL0Mm-j_D8",
        "outputId": "aae5e46b-2cdf-432a-a480-8f13f62fa576"
      },
      "source": [
        "# Histogram - Pressure (millibars)\n",
        "X['Pressure (millibars)'].hist();"
      ],
      "execution_count": null,
      "outputs": [
        {
          "output_type": "display_data",
          "data": {
            "image/png": "[encoded data removed]",
            "text/plain": [
              "<Figure size 432x288 with 1 Axes>"
            ]
          },
          "metadata": {
            "tags": [],
            "needs_background": "light"
          }
        }
      ]
    },
    {
      "cell_type": "code",
      "metadata": {
        "colab": {
          "base_uri": "https://localhost:8080/",
          "height": 283
        },
        "id": "XoMzG-v3kMDP",
        "outputId": "601acebf-4cc4-4aea-8b0d-2374ef8e0d94"
      },
      "source": [
        "X['Wind Bearing (degrees)'].hist()"
      ],
      "execution_count": null,
      "outputs": [
        {
          "output_type": "execute_result",
          "data": {
            "text/plain": [
              "<matplotlib.axes._subplots.AxesSubplot at 0x7f0295c83050>"
            ]
          },
          "metadata": {
            "tags": []
          },
          "execution_count": 323
        },
        {
          "output_type": "display_data",
          "data": {
            "image/png": "[encoded data removed]",
            "text/plain": [
              "<Figure size 432x288 with 1 Axes>"
            ]
          },
          "metadata": {
            "tags": [],
            "needs_background": "light"
          }
        }
      ]
    },
    {
      "cell_type": "code",
      "metadata": {
        "colab": {
          "base_uri": "https://localhost:8080/",
          "height": 281
        },
        "id": "1ANZSbQakRmN",
        "outputId": "5d3e35df-5b1f-4a0e-8529-56e1e3feffdf"
      },
      "source": [
        "data_disc = pd.DataFrame(X, columns=['Wind Bearing (degrees)'])\n",
        "\n",
        "# fit the scaler to the  data\n",
        "discretizer = KBinsDiscretizer(n_bins=8, encode='ordinal', strategy='kmeans') \n",
        "discretizer.fit(data_disc)\n",
        "\n",
        "data_discretized = discretizer.transform(data_disc)\n",
        "\n",
        "data_discretized = pd.DataFrame(data_discretized,columns=['Wind Bearing (bins)'])\n",
        "\n",
        "data_discretized.hist();"
      ],
      "execution_count": null,
      "outputs": [
        {
          "output_type": "display_data",
          "data": {
            "image/png": "[encoded data removed]",
            "text/plain": [
              "<Figure size 432x288 with 1 Axes>"
            ]
          },
          "metadata": {
            "tags": [],
            "needs_background": "light"
          }
        }
      ]
    },
    {
      "cell_type": "code",
      "metadata": {
        "colab": {
          "base_uri": "https://localhost:8080/",
          "height": 459
        },
        "id": "VvySmRWhlFq5",
        "outputId": "ea62056f-6d21-4a05-f195-648b4a81a930"
      },
      "source": [
        "columns_value_new = columns_value_new = ['Precip Type', 'Temperature (C)', 'Humidity','Wind Speed (km/h)', 'Visibility (km)', 'Pressure (millibars)', 'Wind Bearing (degrees)']\n",
        "X['Wind Bearing (degrees)'] = data_discretized\n",
        "X[columns_value_new].hist()"
      ],
      "execution_count": null,
      "outputs": [
        {
          "output_type": "execute_result",
          "data": {
            "text/plain": [
              "array([[<matplotlib.axes._subplots.AxesSubplot object at 0x7f86c42d45d0>,\n",
              "        <matplotlib.axes._subplots.AxesSubplot object at 0x7f86c4283d10>,\n",
              "        <matplotlib.axes._subplots.AxesSubplot object at 0x7f86c42453d0>],\n",
              "       [<matplotlib.axes._subplots.AxesSubplot object at 0x7f86c41fba50>,\n",
              "        <matplotlib.axes._subplots.AxesSubplot object at 0x7f86c41be110>,\n",
              "        <matplotlib.axes._subplots.AxesSubplot object at 0x7f86c41f2790>],\n",
              "       [<matplotlib.axes._subplots.AxesSubplot object at 0x7f86c41a7e90>,\n",
              "        <matplotlib.axes._subplots.AxesSubplot object at 0x7f86c416b490>,\n",
              "        <matplotlib.axes._subplots.AxesSubplot object at 0x7f86c416b4d0>]],\n",
              "      dtype=object)"
            ]
          },
          "metadata": {
            "tags": []
          },
          "execution_count": 46
        },
        {
          "output_type": "display_data",
          "data": {
            "image/png": "[encoded data removed]",
            "text/plain": [
              "<Figure size 432x288 with 9 Axes>"
            ]
          },
          "metadata": {
            "tags": [],
            "needs_background": "light"
          }
        }
      ]
    },
    {
      "cell_type": "code",
      "metadata": {
        "colab": {
          "base_uri": "https://localhost:8080/",
          "height": 710
        },
        "id": "GdyY9ld8l3e2",
        "outputId": "3af2ab92-c95f-4a9b-9744-8cbc8b8a6d4d"
      },
      "source": [
        "# check the correlation\n",
        "X1 = X.copy()\n",
        "cols = ['Precip Type', 'Temperature (C)', 'Humidity', 'Wind Speed (km/h)', 'Wind Bearing (degrees)', 'Visibility (km)', 'Pressure (millibars)']\n",
        "X1 = X1[cols]\n",
        "sns.heatmap(X1.corr(), annot=True)\n",
        "X1.corr()"
      ],
      "execution_count": null,
      "outputs": [
        {
          "output_type": "execute_result",
          "data": {
            "text/html": [
              "<div>\n",
              "<style scoped>\n",
              "    .dataframe tbody tr th:only-of-type {\n",
              "        vertical-align: middle;\n",
              "    }\n",
              "\n",
              "    .dataframe tbody tr th {\n",
              "        vertical-align: top;\n",
              "    }\n",
              "\n",
              "    .dataframe thead th {\n",
              "        text-align: right;\n",
              "    }\n",
              "</style>\n",
              "<table border=\"1\" class=\"dataframe\">\n",
              "  <thead>\n",
              "    <tr style=\"text-align: right;\">\n",
              "      <th></th>\n",
              "      <th>Precip Type</th>\n",
              "      <th>Temperature (C)</th>\n",
              "      <th>Humidity</th>\n",
              "      <th>Wind Speed (km/h)</th>\n",
              "      <th>Wind Bearing (degrees)</th>\n",
              "      <th>Visibility (km)</th>\n",
              "      <th>Pressure (millibars)</th>\n",
              "    </tr>\n",
              "  </thead>\n",
              "  <tbody>\n",
              "    <tr>\n",
              "      <th>Precip Type</th>\n",
              "      <td>1.000000</td>\n",
              "      <td>-0.563172</td>\n",
              "      <td>0.246431</td>\n",
              "      <td>-0.073588</td>\n",
              "      <td>-0.041313</td>\n",
              "      <td>-0.317721</td>\n",
              "      <td>0.301145</td>\n",
              "    </tr>\n",
              "    <tr>\n",
              "      <th>Temperature (C)</th>\n",
              "      <td>-0.563172</td>\n",
              "      <td>1.000000</td>\n",
              "      <td>-0.595193</td>\n",
              "      <td>0.022391</td>\n",
              "      <td>0.029543</td>\n",
              "      <td>0.393396</td>\n",
              "      <td>-0.310378</td>\n",
              "    </tr>\n",
              "    <tr>\n",
              "      <th>Humidity</th>\n",
              "      <td>0.246431</td>\n",
              "      <td>-0.595193</td>\n",
              "      <td>1.000000</td>\n",
              "      <td>-0.255882</td>\n",
              "      <td>0.002845</td>\n",
              "      <td>-0.461140</td>\n",
              "      <td>0.041900</td>\n",
              "    </tr>\n",
              "    <tr>\n",
              "      <th>Wind Speed (km/h)</th>\n",
              "      <td>-0.073588</td>\n",
              "      <td>0.022391</td>\n",
              "      <td>-0.255882</td>\n",
              "      <td>1.000000</td>\n",
              "      <td>0.116011</td>\n",
              "      <td>0.108720</td>\n",
              "      <td>-0.251721</td>\n",
              "    </tr>\n",
              "    <tr>\n",
              "      <th>Wind Bearing (degrees)</th>\n",
              "      <td>-0.041313</td>\n",
              "      <td>0.029543</td>\n",
              "      <td>0.002845</td>\n",
              "      <td>0.116011</td>\n",
              "      <td>1.000000</td>\n",
              "      <td>0.047981</td>\n",
              "      <td>-0.077340</td>\n",
              "    </tr>\n",
              "    <tr>\n",
              "      <th>Visibility (km)</th>\n",
              "      <td>-0.317721</td>\n",
              "      <td>0.393396</td>\n",
              "      <td>-0.461140</td>\n",
              "      <td>0.108720</td>\n",
              "      <td>0.047981</td>\n",
              "      <td>1.000000</td>\n",
              "      <td>-0.162904</td>\n",
              "    </tr>\n",
              "    <tr>\n",
              "      <th>Pressure (millibars)</th>\n",
              "      <td>0.301145</td>\n",
              "      <td>-0.310378</td>\n",
              "      <td>0.041900</td>\n",
              "      <td>-0.251721</td>\n",
              "      <td>-0.077340</td>\n",
              "      <td>-0.162904</td>\n",
              "      <td>1.000000</td>\n",
              "    </tr>\n",
              "  </tbody>\n",
              "</table>\n",
              "</div>"
            ],
            "text/plain": [
              "                        Precip Type  ...  Pressure (millibars)\n",
              "Precip Type                1.000000  ...              0.301145\n",
              "Temperature (C)           -0.563172  ...             -0.310378\n",
              "Humidity                   0.246431  ...              0.041900\n",
              "Wind Speed (km/h)         -0.073588  ...             -0.251721\n",
              "Wind Bearing (degrees)    -0.041313  ...             -0.077340\n",
              "Visibility (km)           -0.317721  ...             -0.162904\n",
              "Pressure (millibars)       0.301145  ...              1.000000\n",
              "\n",
              "[7 rows x 7 columns]"
            ]
          },
          "metadata": {
            "tags": []
          },
          "execution_count": 47
        },
        {
          "output_type": "display_data",
          "data": {
            "image/png": "[encoded data removed]",
            "text/plain": [
              "<Figure size 432x288 with 2 Axes>"
            ]
          },
          "metadata": {
            "tags": [],
            "needs_background": "light"
          }
        }
      ]
    },
    {
      "cell_type": "code",
      "metadata": {
        "colab": {
          "base_uri": "https://localhost:8080/",
          "height": 837
        },
        "id": "itJmXG6HpluX",
        "outputId": "30bf9e24-e13c-4517-b51c-b5e3288c9d29"
      },
      "source": [
        "#test the signifncance of the features with the target\n",
        "d_data = X1.copy()\n",
        "d_data['Apparent Temperature (C)'] = y_true\n",
        "d_data.head(10)\n",
        "sns.heatmap(d_data.corr(), annot=True) \n",
        "d_data.corr()"
      ],
      "execution_count": null,
      "outputs": [
        {
          "output_type": "execute_result",
          "data": {
            "text/html": [
              "<div>\n",
              "<style scoped>\n",
              "    .dataframe tbody tr th:only-of-type {\n",
              "        vertical-align: middle;\n",
              "    }\n",
              "\n",
              "    .dataframe tbody tr th {\n",
              "        vertical-align: top;\n",
              "    }\n",
              "\n",
              "    .dataframe thead th {\n",
              "        text-align: right;\n",
              "    }\n",
              "</style>\n",
              "<table border=\"1\" class=\"dataframe\">\n",
              "  <thead>\n",
              "    <tr style=\"text-align: right;\">\n",
              "      <th></th>\n",
              "      <th>Precip Type</th>\n",
              "      <th>Temperature (C)</th>\n",
              "      <th>Humidity</th>\n",
              "      <th>Wind Speed (km/h)</th>\n",
              "      <th>Wind Bearing (degrees)</th>\n",
              "      <th>Visibility (km)</th>\n",
              "      <th>Pressure (millibars)</th>\n",
              "      <th>Apparent Temperature (C)</th>\n",
              "    </tr>\n",
              "  </thead>\n",
              "  <tbody>\n",
              "    <tr>\n",
              "      <th>Precip Type</th>\n",
              "      <td>1.000000</td>\n",
              "      <td>-0.563172</td>\n",
              "      <td>0.246431</td>\n",
              "      <td>-0.073588</td>\n",
              "      <td>-0.041313</td>\n",
              "      <td>-0.317721</td>\n",
              "      <td>0.301145</td>\n",
              "      <td>-0.565426</td>\n",
              "    </tr>\n",
              "    <tr>\n",
              "      <th>Temperature (C)</th>\n",
              "      <td>-0.563172</td>\n",
              "      <td>1.000000</td>\n",
              "      <td>-0.595193</td>\n",
              "      <td>0.022391</td>\n",
              "      <td>0.029543</td>\n",
              "      <td>0.393396</td>\n",
              "      <td>-0.310378</td>\n",
              "      <td>0.992656</td>\n",
              "    </tr>\n",
              "    <tr>\n",
              "      <th>Humidity</th>\n",
              "      <td>0.246431</td>\n",
              "      <td>-0.595193</td>\n",
              "      <td>1.000000</td>\n",
              "      <td>-0.255882</td>\n",
              "      <td>0.002845</td>\n",
              "      <td>-0.461140</td>\n",
              "      <td>0.041900</td>\n",
              "      <td>-0.567842</td>\n",
              "    </tr>\n",
              "    <tr>\n",
              "      <th>Wind Speed (km/h)</th>\n",
              "      <td>-0.073588</td>\n",
              "      <td>0.022391</td>\n",
              "      <td>-0.255882</td>\n",
              "      <td>1.000000</td>\n",
              "      <td>0.116011</td>\n",
              "      <td>0.108720</td>\n",
              "      <td>-0.251721</td>\n",
              "      <td>-0.045041</td>\n",
              "    </tr>\n",
              "    <tr>\n",
              "      <th>Wind Bearing (degrees)</th>\n",
              "      <td>-0.041313</td>\n",
              "      <td>0.029543</td>\n",
              "      <td>0.002845</td>\n",
              "      <td>0.116011</td>\n",
              "      <td>1.000000</td>\n",
              "      <td>0.047981</td>\n",
              "      <td>-0.077340</td>\n",
              "      <td>0.028974</td>\n",
              "    </tr>\n",
              "    <tr>\n",
              "      <th>Visibility (km)</th>\n",
              "      <td>-0.317721</td>\n",
              "      <td>0.393396</td>\n",
              "      <td>-0.461140</td>\n",
              "      <td>0.108720</td>\n",
              "      <td>0.047981</td>\n",
              "      <td>1.000000</td>\n",
              "      <td>-0.162904</td>\n",
              "      <td>0.381943</td>\n",
              "    </tr>\n",
              "    <tr>\n",
              "      <th>Pressure (millibars)</th>\n",
              "      <td>0.301145</td>\n",
              "      <td>-0.310378</td>\n",
              "      <td>0.041900</td>\n",
              "      <td>-0.251721</td>\n",
              "      <td>-0.077340</td>\n",
              "      <td>-0.162904</td>\n",
              "      <td>1.000000</td>\n",
              "      <td>-0.288173</td>\n",
              "    </tr>\n",
              "    <tr>\n",
              "      <th>Apparent Temperature (C)</th>\n",
              "      <td>-0.565426</td>\n",
              "      <td>0.992656</td>\n",
              "      <td>-0.567842</td>\n",
              "      <td>-0.045041</td>\n",
              "      <td>0.028974</td>\n",
              "      <td>0.381943</td>\n",
              "      <td>-0.288173</td>\n",
              "      <td>1.000000</td>\n",
              "    </tr>\n",
              "  </tbody>\n",
              "</table>\n",
              "</div>"
            ],
            "text/plain": [
              "                          Precip Type  ...  Apparent Temperature (C)\n",
              "Precip Type                  1.000000  ...                 -0.565426\n",
              "Temperature (C)             -0.563172  ...                  0.992656\n",
              "Humidity                     0.246431  ...                 -0.567842\n",
              "Wind Speed (km/h)           -0.073588  ...                 -0.045041\n",
              "Wind Bearing (degrees)      -0.041313  ...                  0.028974\n",
              "Visibility (km)             -0.317721  ...                  0.381943\n",
              "Pressure (millibars)         0.301145  ...                 -0.288173\n",
              "Apparent Temperature (C)    -0.565426  ...                  1.000000\n",
              "\n",
              "[8 rows x 8 columns]"
            ]
          },
          "metadata": {
            "tags": []
          },
          "execution_count": 48
        },
        {
          "output_type": "display_data",
          "data": {
            "image/png": "[encoded data removed]",
            "text/plain": [
              "<Figure size 432x288 with 2 Axes>"
            ]
          },
          "metadata": {
            "tags": [],
            "needs_background": "light"
          }
        }
      ]
    },
    {
      "cell_type": "code",
      "metadata": {
        "colab": {
          "base_uri": "https://localhost:8080/"
        },
        "id": "ct4sQaMTuIA_",
        "outputId": "5f2ca479-5ab1-4e90-cd97-800f996c492d"
      },
      "source": [
        "# apply the PCA for feature reduction\n",
        "pca = PCA()\n",
        "pca.fit(X)\n",
        "pca.explained_variance_ratio_"
      ],
      "execution_count": null,
      "outputs": [
        {
          "output_type": "execute_result",
          "data": {
            "text/plain": [
              "array([4.77614079e-01, 1.96323146e-01, 9.96890159e-02, 7.95135644e-02,\n",
              "       5.74525288e-02, 2.66205216e-02, 2.44589942e-02, 1.59632133e-02,\n",
              "       1.05552882e-02, 5.41403191e-03, 4.30782397e-03, 6.62926721e-04,\n",
              "       4.89827913e-04, 3.83553121e-04, 1.09562236e-04, 7.16436711e-05,\n",
              "       5.94505415e-05, 4.89200380e-05, 4.06252194e-05, 3.74303423e-05,\n",
              "       3.47723737e-05, 3.26528770e-05, 3.21430208e-05, 2.89885158e-05,\n",
              "       1.69002366e-05, 1.37604784e-05, 9.85162223e-06, 6.89186161e-06,\n",
              "       3.94269505e-06, 1.10445349e-06, 9.48126084e-07, 9.48094994e-07,\n",
              "       9.48004888e-07, 9.41927688e-32])"
            ]
          },
          "metadata": {
            "tags": []
          },
          "execution_count": 49
        }
      ]
    },
    {
      "cell_type": "code",
      "metadata": {
        "colab": {
          "base_uri": "https://localhost:8080/"
        },
        "id": "4VLw5GdEkFtw",
        "outputId": "db03881c-0482-4fa0-e1fd-0f099de474e2"
      },
      "source": [
        "# check the no of components\n",
        "\n",
        "pca = PCA(.95)\n",
        "pca.fit(X)\n",
        "pca.n_components_"
      ],
      "execution_count": null,
      "outputs": [
        {
          "output_type": "execute_result",
          "data": {
            "text/plain": [
              "7"
            ]
          },
          "metadata": {
            "tags": []
          },
          "execution_count": 50
        }
      ]
    },
    {
      "cell_type": "code",
      "metadata": {
        "colab": {
          "base_uri": "https://localhost:8080/",
          "height": 418
        },
        "id": "wSx5eJxereWh",
        "outputId": "366c6d57-72d8-44b6-a14d-a74e97fcb92d"
      },
      "source": [
        "pca = PCA(n_components=7)\n",
        "pca.fit(X)\n",
        "X_pca = pca.transform(X)\n",
        "\n",
        "DF = pd.DataFrame(data =X_pca)\n",
        "DF"
      ],
      "execution_count": null,
      "outputs": [
        {
          "output_type": "execute_result",
          "data": {
            "text/html": [
              "<div>\n",
              "<style scoped>\n",
              "    .dataframe tbody tr th:only-of-type {\n",
              "        vertical-align: middle;\n",
              "    }\n",
              "\n",
              "    .dataframe tbody tr th {\n",
              "        vertical-align: top;\n",
              "    }\n",
              "\n",
              "    .dataframe thead th {\n",
              "        text-align: right;\n",
              "    }\n",
              "</style>\n",
              "<table border=\"1\" class=\"dataframe\">\n",
              "  <thead>\n",
              "    <tr style=\"text-align: right;\">\n",
              "      <th></th>\n",
              "      <th>0</th>\n",
              "      <th>1</th>\n",
              "      <th>2</th>\n",
              "      <th>3</th>\n",
              "      <th>4</th>\n",
              "      <th>5</th>\n",
              "      <th>6</th>\n",
              "    </tr>\n",
              "  </thead>\n",
              "  <tbody>\n",
              "    <tr>\n",
              "      <th>0</th>\n",
              "      <td>-1.369368</td>\n",
              "      <td>-0.240828</td>\n",
              "      <td>0.328436</td>\n",
              "      <td>0.098837</td>\n",
              "      <td>-1.340530</td>\n",
              "      <td>-0.846139</td>\n",
              "      <td>-0.506763</td>\n",
              "    </tr>\n",
              "    <tr>\n",
              "      <th>1</th>\n",
              "      <td>-1.369640</td>\n",
              "      <td>-0.353197</td>\n",
              "      <td>0.250224</td>\n",
              "      <td>0.237328</td>\n",
              "      <td>-1.265713</td>\n",
              "      <td>-0.813537</td>\n",
              "      <td>-0.378920</td>\n",
              "    </tr>\n",
              "    <tr>\n",
              "      <th>2</th>\n",
              "      <td>-0.255122</td>\n",
              "      <td>0.261263</td>\n",
              "      <td>-0.572614</td>\n",
              "      <td>-0.853004</td>\n",
              "      <td>-1.385721</td>\n",
              "      <td>0.696303</td>\n",
              "      <td>-0.192928</td>\n",
              "    </tr>\n",
              "    <tr>\n",
              "      <th>3</th>\n",
              "      <td>-1.363073</td>\n",
              "      <td>-0.384025</td>\n",
              "      <td>0.145384</td>\n",
              "      <td>0.401042</td>\n",
              "      <td>-1.238789</td>\n",
              "      <td>-0.779548</td>\n",
              "      <td>-0.206264</td>\n",
              "    </tr>\n",
              "    <tr>\n",
              "      <th>4</th>\n",
              "      <td>-1.339442</td>\n",
              "      <td>-0.247754</td>\n",
              "      <td>0.024666</td>\n",
              "      <td>0.150547</td>\n",
              "      <td>-1.349338</td>\n",
              "      <td>0.639592</td>\n",
              "      <td>-0.278587</td>\n",
              "    </tr>\n",
              "    <tr>\n",
              "      <th>...</th>\n",
              "      <td>...</td>\n",
              "      <td>...</td>\n",
              "      <td>...</td>\n",
              "      <td>...</td>\n",
              "      <td>...</td>\n",
              "      <td>...</td>\n",
              "      <td>...</td>\n",
              "    </tr>\n",
              "    <tr>\n",
              "      <th>94619</th>\n",
              "      <td>3.563563</td>\n",
              "      <td>-2.691589</td>\n",
              "      <td>-0.367450</td>\n",
              "      <td>0.030292</td>\n",
              "      <td>-0.064868</td>\n",
              "      <td>-0.521499</td>\n",
              "      <td>-0.055857</td>\n",
              "    </tr>\n",
              "    <tr>\n",
              "      <th>94620</th>\n",
              "      <td>3.586178</td>\n",
              "      <td>-2.429587</td>\n",
              "      <td>-0.443577</td>\n",
              "      <td>0.017331</td>\n",
              "      <td>-0.055616</td>\n",
              "      <td>-0.518228</td>\n",
              "      <td>-0.021881</td>\n",
              "    </tr>\n",
              "    <tr>\n",
              "      <th>94621</th>\n",
              "      <td>3.604887</td>\n",
              "      <td>-2.167482</td>\n",
              "      <td>-0.524362</td>\n",
              "      <td>-0.033033</td>\n",
              "      <td>-0.355554</td>\n",
              "      <td>-0.539376</td>\n",
              "      <td>0.001227</td>\n",
              "    </tr>\n",
              "    <tr>\n",
              "      <th>94622</th>\n",
              "      <td>3.594322</td>\n",
              "      <td>-2.100166</td>\n",
              "      <td>-0.354204</td>\n",
              "      <td>0.100792</td>\n",
              "      <td>-0.406399</td>\n",
              "      <td>-0.580343</td>\n",
              "      <td>-0.138938</td>\n",
              "    </tr>\n",
              "    <tr>\n",
              "      <th>94623</th>\n",
              "      <td>2.658025</td>\n",
              "      <td>-1.709555</td>\n",
              "      <td>-0.887814</td>\n",
              "      <td>-0.347492</td>\n",
              "      <td>-0.382954</td>\n",
              "      <td>-0.503828</td>\n",
              "      <td>0.153308</td>\n",
              "    </tr>\n",
              "  </tbody>\n",
              "</table>\n",
              "<p>94624 rows × 7 columns</p>\n",
              "</div>"
            ],
            "text/plain": [
              "              0         1         2         3         4         5         6\n",
              "0     -1.369368 -0.240828  0.328436  0.098837 -1.340530 -0.846139 -0.506763\n",
              "1     -1.369640 -0.353197  0.250224  0.237328 -1.265713 -0.813537 -0.378920\n",
              "2     -0.255122  0.261263 -0.572614 -0.853004 -1.385721  0.696303 -0.192928\n",
              "3     -1.363073 -0.384025  0.145384  0.401042 -1.238789 -0.779548 -0.206264\n",
              "4     -1.339442 -0.247754  0.024666  0.150547 -1.349338  0.639592 -0.278587\n",
              "...         ...       ...       ...       ...       ...       ...       ...\n",
              "94619  3.563563 -2.691589 -0.367450  0.030292 -0.064868 -0.521499 -0.055857\n",
              "94620  3.586178 -2.429587 -0.443577  0.017331 -0.055616 -0.518228 -0.021881\n",
              "94621  3.604887 -2.167482 -0.524362 -0.033033 -0.355554 -0.539376  0.001227\n",
              "94622  3.594322 -2.100166 -0.354204  0.100792 -0.406399 -0.580343 -0.138938\n",
              "94623  2.658025 -1.709555 -0.887814 -0.347492 -0.382954 -0.503828  0.153308\n",
              "\n",
              "[94624 rows x 7 columns]"
            ]
          },
          "metadata": {
            "tags": []
          },
          "execution_count": 51
        }
      ]
    },
    {
      "cell_type": "code",
      "metadata": {
        "colab": {
          "base_uri": "https://localhost:8080/"
        },
        "id": "4_ZuM3uxncDL",
        "outputId": "8eb4d117-4909-44d4-865d-d5b1f7a17acd"
      },
      "source": [
        "pca.explained_variance_ratio_"
      ],
      "execution_count": null,
      "outputs": [
        {
          "output_type": "execute_result",
          "data": {
            "text/plain": [
              "array([0.47761408, 0.19632315, 0.09968902, 0.07951356, 0.05745253,\n",
              "       0.02662052, 0.02445899])"
            ]
          },
          "metadata": {
            "tags": []
          },
          "execution_count": 52
        }
      ]
    },
    {
      "cell_type": "code",
      "metadata": {
        "colab": {
          "base_uri": "https://localhost:8080/"
        },
        "id": "txqP7TdLr9xP",
        "outputId": "385e4414-c3b8-4e4e-caff-37567c78e411"
      },
      "source": [
        "# Split the data\n",
        "\n",
        "X_df = DF\n",
        "\n",
        "X_train, X_test, Y_train, Y_test = train_test_split(X_df, target, test_size=0.2,random_state=101)\n",
        "\n",
        "# reset the indexes\n",
        "X_train = X_train.reset_index(drop=True)\n",
        "X_test = X_test.reset_index(drop=True)\n",
        "Y_train = Y_train.reset_index(drop=True)\n",
        "Y_test = Y_test.reset_index(drop=True)\n",
        "\n",
        "print(\"X_train shape:\",X_train.shape,\"    y_train shape:\",Y_train.shape)\n",
        "print(\"X_test shape:\",X_test.shape,\"     y_test shape:\", Y_test.shape)"
      ],
      "execution_count": null,
      "outputs": [
        {
          "output_type": "stream",
          "text": [
            "X_train shape: (75699, 7)     y_train shape: (75699, 1)\n",
            "X_test shape: (18925, 7)      y_test shape: (18925, 1)\n"
          ],
          "name": "stdout"
        }
      ]
    },
    {
      "cell_type": "code",
      "metadata": {
        "id": "qfB4r0iDxUD2"
      },
      "source": [
        "# implementing Linear Regression\n",
        "lm = linear_model.LinearRegression()\n",
        "model = lm.fit(X_train, Y_train)\n"
      ],
      "execution_count": null,
      "outputs": []
    },
    {
      "cell_type": "code",
      "metadata": {
        "colab": {
          "base_uri": "https://localhost:8080/",
          "height": 202
        },
        "id": "a9cuPjuRyfOM",
        "outputId": "10ce71a7-7407-49a6-81b5-5af0fa0fc5fc"
      },
      "source": [
        "predictions = lm.predict(X_test)\n",
        "y_hat = pd.DataFrame(predictions, columns=['Predicted Temperature'])\n",
        "y_hat.head()"
      ],
      "execution_count": null,
      "outputs": [
        {
          "output_type": "execute_result",
          "data": {
            "text/html": [
              "<div>\n",
              "<style scoped>\n",
              "    .dataframe tbody tr th:only-of-type {\n",
              "        vertical-align: middle;\n",
              "    }\n",
              "\n",
              "    .dataframe tbody tr th {\n",
              "        vertical-align: top;\n",
              "    }\n",
              "\n",
              "    .dataframe thead th {\n",
              "        text-align: right;\n",
              "    }\n",
              "</style>\n",
              "<table border=\"1\" class=\"dataframe\">\n",
              "  <thead>\n",
              "    <tr style=\"text-align: right;\">\n",
              "      <th></th>\n",
              "      <th>Predicted Temperature</th>\n",
              "    </tr>\n",
              "  </thead>\n",
              "  <tbody>\n",
              "    <tr>\n",
              "      <th>0</th>\n",
              "      <td>8.421553</td>\n",
              "    </tr>\n",
              "    <tr>\n",
              "      <th>1</th>\n",
              "      <td>-0.422459</td>\n",
              "    </tr>\n",
              "    <tr>\n",
              "      <th>2</th>\n",
              "      <td>13.582458</td>\n",
              "    </tr>\n",
              "    <tr>\n",
              "      <th>3</th>\n",
              "      <td>18.237137</td>\n",
              "    </tr>\n",
              "    <tr>\n",
              "      <th>4</th>\n",
              "      <td>-0.762895</td>\n",
              "    </tr>\n",
              "  </tbody>\n",
              "</table>\n",
              "</div>"
            ],
            "text/plain": [
              "   Predicted Temperature\n",
              "0               8.421553\n",
              "1              -0.422459\n",
              "2              13.582458\n",
              "3              18.237137\n",
              "4              -0.762895"
            ]
          },
          "metadata": {
            "tags": []
          },
          "execution_count": 332
        }
      ]
    },
    {
      "cell_type": "code",
      "metadata": {
        "colab": {
          "base_uri": "https://localhost:8080/",
          "height": 202
        },
        "id": "JJu9AlChyoBY",
        "outputId": "38e8be03-9fa7-4ebb-ddb4-37a8262d02fe"
      },
      "source": [
        "Y_test.head()"
      ],
      "execution_count": null,
      "outputs": [
        {
          "output_type": "execute_result",
          "data": {
            "text/html": [
              "<div>\n",
              "<style scoped>\n",
              "    .dataframe tbody tr th:only-of-type {\n",
              "        vertical-align: middle;\n",
              "    }\n",
              "\n",
              "    .dataframe tbody tr th {\n",
              "        vertical-align: top;\n",
              "    }\n",
              "\n",
              "    .dataframe thead th {\n",
              "        text-align: right;\n",
              "    }\n",
              "</style>\n",
              "<table border=\"1\" class=\"dataframe\">\n",
              "  <thead>\n",
              "    <tr style=\"text-align: right;\">\n",
              "      <th></th>\n",
              "      <th>Apparent Temperature (C)</th>\n",
              "    </tr>\n",
              "  </thead>\n",
              "  <tbody>\n",
              "    <tr>\n",
              "      <th>0</th>\n",
              "      <td>8.688889</td>\n",
              "    </tr>\n",
              "    <tr>\n",
              "      <th>1</th>\n",
              "      <td>-1.550000</td>\n",
              "    </tr>\n",
              "    <tr>\n",
              "      <th>2</th>\n",
              "      <td>14.061111</td>\n",
              "    </tr>\n",
              "    <tr>\n",
              "      <th>3</th>\n",
              "      <td>18.311111</td>\n",
              "    </tr>\n",
              "    <tr>\n",
              "      <th>4</th>\n",
              "      <td>-1.366667</td>\n",
              "    </tr>\n",
              "  </tbody>\n",
              "</table>\n",
              "</div>"
            ],
            "text/plain": [
              "   Apparent Temperature (C)\n",
              "0                  8.688889\n",
              "1                 -1.550000\n",
              "2                 14.061111\n",
              "3                 18.311111\n",
              "4                 -1.366667"
            ]
          },
          "metadata": {
            "tags": []
          },
          "execution_count": 333
        }
      ]
    },
    {
      "cell_type": "code",
      "metadata": {
        "colab": {
          "base_uri": "https://localhost:8080/"
        },
        "id": "fOxxkz7XxtWH",
        "outputId": "8463623f-ce82-460a-e6f3-2fbe71a8ccc0"
      },
      "source": [
        "# Calcualting MSE of y_hat and y\n",
        "mean_squared_error(Y_test, y_hat)"
      ],
      "execution_count": null,
      "outputs": [
        {
          "output_type": "execute_result",
          "data": {
            "text/plain": [
              "1.3932665751665436"
            ]
          },
          "metadata": {
            "tags": []
          },
          "execution_count": 334
        }
      ]
    },
    {
      "cell_type": "code",
      "metadata": {
        "colab": {
          "base_uri": "https://localhost:8080/"
        },
        "id": "QusJuCJNyJwo",
        "outputId": "2f28c7eb-2435-49c8-f666-588ba546f579"
      },
      "source": [
        "#RMSE\n",
        "from math import sqrt\n",
        "rmse = sqrt(mean_squared_error(Y_test, y_hat))\n",
        "rmse"
      ],
      "execution_count": null,
      "outputs": [
        {
          "output_type": "execute_result",
          "data": {
            "text/plain": [
              "1.1803671357533398"
            ]
          },
          "metadata": {
            "tags": []
          },
          "execution_count": 335
        }
      ]
    },
    {
      "cell_type": "code",
      "metadata": {
        "colab": {
          "base_uri": "https://localhost:8080/"
        },
        "id": "xJ_S3hLby4LO",
        "outputId": "56011986-2d57-4a74-e9f1-e5ce38eb2aee"
      },
      "source": [
        "#Percentage of explained variance of the predictions\n",
        "print(lm.score(X_test,Y_test))"
      ],
      "execution_count": null,
      "outputs": [
        {
          "output_type": "stream",
          "text": [
            "0.9878860954312183\n"
          ],
          "name": "stdout"
        }
      ]
    },
    {
      "cell_type": "code",
      "metadata": {
        "colab": {
          "base_uri": "https://localhost:8080/"
        },
        "id": "op9R5Zc5y-dA",
        "outputId": "d3e934e1-e91c-4244-b7d3-ffa7802f119e"
      },
      "source": [
        "# W parameters of the model W value\n",
        "print(lm.coef_)"
      ],
      "execution_count": null,
      "outputs": [
        {
          "output_type": "stream",
          "text": [
            "[[-0.24898365 -5.63430182 -2.41632089 -3.89620307  4.57141059  0.20661109\n",
            "  -6.08235427]]\n"
          ],
          "name": "stdout"
        }
      ]
    },
    {
      "cell_type": "code",
      "metadata": {
        "colab": {
          "base_uri": "https://localhost:8080/"
        },
        "id": "GwbihKKAzEax",
        "outputId": "8e9f56ea-dbf2-4a8f-8676-75838e887477"
      },
      "source": [
        "# Intercept of the model W0\n",
        "print(lm.intercept_)"
      ],
      "execution_count": null,
      "outputs": [
        {
          "output_type": "stream",
          "text": [
            "[10.88248565]\n"
          ],
          "name": "stdout"
        }
      ]
    },
    {
      "cell_type": "code",
      "metadata": {
        "colab": {
          "base_uri": "https://localhost:8080/",
          "height": 336
        },
        "id": "AZMQWk9yzKsK",
        "outputId": "457bb855-ec62-473c-8f5c-004a76afca0c"
      },
      "source": [
        "# visualising\n",
        "plt.figure(figsize=(10, 5))\n",
        "\n",
        "# Limiting the data set to 100 rows for more clearance\n",
        "plt.plot(y_hat[:100], label = \"Pred\")\n",
        "plt.plot(Y_test[:100], label = \"Actual\")\n",
        "plt.title('Prediction vs Actual - With PCA')\n",
        "plt.legend()\n",
        "plt.show()"
      ],
      "execution_count": null,
      "outputs": [
        {
          "output_type": "display_data",
          "data": {
            "image/png": "[encoded data removed]",
            "text/plain": [
              "<Figure size 720x360 with 1 Axes>"
            ]
          },
          "metadata": {
            "tags": [],
            "needs_background": "light"
          }
        }
      ]
    }
  ]
}